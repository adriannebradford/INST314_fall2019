{
 "cells": [
  {
   "cell_type": "code",
   "execution_count": 8,
   "metadata": {},
   "outputs": [],
   "source": [
    "library(tidyverse)\n",
    "\n",
    "options(repr.plot.width=4, repr.plot.height=3) ## set options for plot size within the notebook -\n",
    "# this is only for jupyter notebooks, you can disregard this."
   ]
  },
  {
   "cell_type": "markdown",
   "metadata": {},
   "source": [
    "# Simple Linear Regression\n",
    "Creating a linear model with only one IV.  "
   ]
  },
  {
   "cell_type": "code",
   "execution_count": 2,
   "metadata": {},
   "outputs": [
    {
     "data": {
      "text/html": [
       "<table>\n",
       "<thead><tr><th scope=col>crime.per.million</th><th scope=col>young.males</th><th scope=col>is.south</th><th scope=col>average.ed</th><th scope=col>exp.per.cap.1960</th><th scope=col>exp.per.cap.1959</th><th scope=col>labour.part</th><th scope=col>male.per.fem</th><th scope=col>population</th><th scope=col>nonwhite</th><th scope=col>unemp.youth</th><th scope=col>unemp.adult</th><th scope=col>median.assets</th><th scope=col>num.low.salary</th></tr></thead>\n",
       "<tbody>\n",
       "\t<tr><td> 79.1</td><td>151  </td><td>1    </td><td> 91  </td><td> 58  </td><td> 56  </td><td>510  </td><td> 950 </td><td> 33  </td><td>301  </td><td>108  </td><td>41   </td><td>394  </td><td>261  </td></tr>\n",
       "\t<tr><td>163.5</td><td>143  </td><td>0    </td><td>113  </td><td>103  </td><td> 95  </td><td>583  </td><td>1012 </td><td> 13  </td><td>102  </td><td> 96  </td><td>36   </td><td>557  </td><td>194  </td></tr>\n",
       "\t<tr><td> 57.8</td><td>142  </td><td>1    </td><td> 89  </td><td> 45  </td><td> 44  </td><td>533  </td><td> 969 </td><td> 18  </td><td>219  </td><td> 94  </td><td>33   </td><td>318  </td><td>250  </td></tr>\n",
       "\t<tr><td>196.9</td><td>136  </td><td>0    </td><td>121  </td><td>149  </td><td>141  </td><td>577  </td><td> 994 </td><td>157  </td><td> 80  </td><td>102  </td><td>39   </td><td>673  </td><td>167  </td></tr>\n",
       "\t<tr><td>123.4</td><td>141  </td><td>0    </td><td>121  </td><td>109  </td><td>101  </td><td>591  </td><td> 985 </td><td> 18  </td><td> 30  </td><td> 91  </td><td>20   </td><td>578  </td><td>174  </td></tr>\n",
       "\t<tr><td> 68.2</td><td>121  </td><td>0    </td><td>110  </td><td>118  </td><td>115  </td><td>547  </td><td> 964 </td><td> 25  </td><td> 44  </td><td> 84  </td><td>29   </td><td>689  </td><td>126  </td></tr>\n",
       "</tbody>\n",
       "</table>\n"
      ],
      "text/latex": [
       "\\begin{tabular}{r|llllllllllllll}\n",
       " crime.per.million & young.males & is.south & average.ed & exp.per.cap.1960 & exp.per.cap.1959 & labour.part & male.per.fem & population & nonwhite & unemp.youth & unemp.adult & median.assets & num.low.salary\\\\\n",
       "\\hline\n",
       "\t  79.1 & 151   & 1     &  91   &  58   &  56   & 510   &  950  &  33   & 301   & 108   & 41    & 394   & 261  \\\\\n",
       "\t 163.5 & 143   & 0     & 113   & 103   &  95   & 583   & 1012  &  13   & 102   &  96   & 36    & 557   & 194  \\\\\n",
       "\t  57.8 & 142   & 1     &  89   &  45   &  44   & 533   &  969  &  18   & 219   &  94   & 33    & 318   & 250  \\\\\n",
       "\t 196.9 & 136   & 0     & 121   & 149   & 141   & 577   &  994  & 157   &  80   & 102   & 39    & 673   & 167  \\\\\n",
       "\t 123.4 & 141   & 0     & 121   & 109   & 101   & 591   &  985  &  18   &  30   &  91   & 20    & 578   & 174  \\\\\n",
       "\t  68.2 & 121   & 0     & 110   & 118   & 115   & 547   &  964  &  25   &  44   &  84   & 29    & 689   & 126  \\\\\n",
       "\\end{tabular}\n"
      ],
      "text/markdown": [
       "\n",
       "| crime.per.million | young.males | is.south | average.ed | exp.per.cap.1960 | exp.per.cap.1959 | labour.part | male.per.fem | population | nonwhite | unemp.youth | unemp.adult | median.assets | num.low.salary |\n",
       "|---|---|---|---|---|---|---|---|---|---|---|---|---|---|\n",
       "|  79.1 | 151   | 1     |  91   |  58   |  56   | 510   |  950  |  33   | 301   | 108   | 41    | 394   | 261   |\n",
       "| 163.5 | 143   | 0     | 113   | 103   |  95   | 583   | 1012  |  13   | 102   |  96   | 36    | 557   | 194   |\n",
       "|  57.8 | 142   | 1     |  89   |  45   |  44   | 533   |  969  |  18   | 219   |  94   | 33    | 318   | 250   |\n",
       "| 196.9 | 136   | 0     | 121   | 149   | 141   | 577   |  994  | 157   |  80   | 102   | 39    | 673   | 167   |\n",
       "| 123.4 | 141   | 0     | 121   | 109   | 101   | 591   |  985  |  18   |  30   |  91   | 20    | 578   | 174   |\n",
       "|  68.2 | 121   | 0     | 110   | 118   | 115   | 547   |  964  |  25   |  44   |  84   | 29    | 689   | 126   |\n",
       "\n"
      ],
      "text/plain": [
       "  crime.per.million young.males is.south average.ed exp.per.cap.1960\n",
       "1  79.1             151         1         91         58             \n",
       "2 163.5             143         0        113        103             \n",
       "3  57.8             142         1         89         45             \n",
       "4 196.9             136         0        121        149             \n",
       "5 123.4             141         0        121        109             \n",
       "6  68.2             121         0        110        118             \n",
       "  exp.per.cap.1959 labour.part male.per.fem population nonwhite unemp.youth\n",
       "1  56              510          950          33        301      108        \n",
       "2  95              583         1012          13        102       96        \n",
       "3  44              533          969          18        219       94        \n",
       "4 141              577          994         157         80      102        \n",
       "5 101              591          985          18         30       91        \n",
       "6 115              547          964          25         44       84        \n",
       "  unemp.adult median.assets num.low.salary\n",
       "1 41          394           261           \n",
       "2 36          557           194           \n",
       "3 33          318           250           \n",
       "4 39          673           167           \n",
       "5 20          578           174           \n",
       "6 29          689           126           "
      ]
     },
     "metadata": {},
     "output_type": "display_data"
    }
   ],
   "source": [
    "crime <- read.table(\"http://www.andrew.cmu.edu/user/achoulde/94842/data/crime_simple.txt\", sep = \"\\t\", header = TRUE)\n",
    "# Assign more meaningful variable names\n",
    "colnames(crime) <- c(\"crime.per.million\", \"young.males\", \"is.south\", \"average.ed\",\n",
    "                     \"exp.per.cap.1960\", \"exp.per.cap.1959\", \"labour.part\",\n",
    "                     \"male.per.fem\", \"population\", \"nonwhite\",\n",
    "                     \"unemp.youth\", \"unemp.adult\", \"median.assets\", \"num.low.salary\")\n",
    "head(crime)"
   ]
  },
  {
   "cell_type": "code",
   "execution_count": 5,
   "metadata": {},
   "outputs": [
    {
     "data": {
      "text/plain": [
       "\n",
       "Call:\n",
       "lm(formula = hwy ~ displ, data = mpg)\n",
       "\n",
       "Residuals:\n",
       "    Min      1Q  Median      3Q     Max \n",
       "-7.1039 -2.1646 -0.2242  2.0589 15.0105 \n",
       "\n",
       "Coefficients:\n",
       "            Estimate Std. Error t value Pr(>|t|)    \n",
       "(Intercept)  35.6977     0.7204   49.55   <2e-16 ***\n",
       "displ        -3.5306     0.1945  -18.15   <2e-16 ***\n",
       "---\n",
       "Signif. codes:  0 '***' 0.001 '**' 0.01 '*' 0.05 '.' 0.1 ' ' 1\n",
       "\n",
       "Residual standard error: 3.836 on 232 degrees of freedom\n",
       "Multiple R-squared:  0.5868,\tAdjusted R-squared:  0.585 \n",
       "F-statistic: 329.5 on 1 and 232 DF,  p-value: < 2.2e-16\n"
      ]
     },
     "metadata": {},
     "output_type": "display_data"
    }
   ],
   "source": [
    "summary(mod1)"
   ]
  },
  {
   "cell_type": "code",
   "execution_count": 9,
   "metadata": {},
   "outputs": [
    {
     "name": "stderr",
     "output_type": "stream",
     "text": [
      "Warning message in png(tf, width, height, \"in\", pointsize, bg, res, antialias = antialias):\n",
      "\"unable to open file 'C:\\Users\\adrianne\\AppData\\Local\\Temp\\RtmpkRw2hP\\fileb2c2ea02cc4.png' for writing\"Warning message in png(tf, width, height, \"in\", pointsize, bg, res, antialias = antialias):\n",
      "\"opening device failed\""
     ]
    },
    {
     "ename": "ERROR",
     "evalue": "Error in png(tf, width, height, \"in\", pointsize, bg, res, antialias = antialias): unable to start png() device\n",
     "output_type": "error",
     "traceback": [
      "Error in png(tf, width, height, \"in\", pointsize, bg, res, antialias = antialias): unable to start png() device\nTraceback:\n",
      "1. plot(mod1)",
      "2. plot.lm(mod1)",
      "3. plot(yhn0, sqrtabsr, xlab = l.fit, ylab = yl, main = main, ylim = ylim, \n .     type = \"n\", ...)",
      "4. plot.default(yhn0, sqrtabsr, xlab = l.fit, ylab = yl, main = main, \n .     ylim = ylim, type = \"n\", ...)",
      "5. plot.new()",
      "6. try(fun())",
      "7. tryCatch(expr, error = function(e) {\n .     call <- conditionCall(e)\n .     if (!is.null(call)) {\n .         if (identical(call[[1L]], quote(doTryCatch))) \n .             call <- sys.call(-4L)\n .         dcall <- deparse(call)[1L]\n .         prefix <- paste(\"Error in\", dcall, \": \")\n .         LONG <- 75L\n .         sm <- strsplit(conditionMessage(e), \"\\n\")[[1L]]\n .         w <- 14L + nchar(dcall, type = \"w\") + nchar(sm[1L], type = \"w\")\n .         if (is.na(w)) \n .             w <- 14L + nchar(dcall, type = \"b\") + nchar(sm[1L], \n .                 type = \"b\")\n .         if (w > LONG) \n .             prefix <- paste0(prefix, \"\\n  \")\n .     }\n .     else prefix <- \"Error : \"\n .     msg <- paste0(prefix, conditionMessage(e), \"\\n\")\n .     .Internal(seterrmessage(msg[1L]))\n .     if (!silent && isTRUE(getOption(\"show.error.messages\"))) {\n .         cat(msg, file = outFile)\n .         .Internal(printDeferredWarnings())\n .     }\n .     invisible(structure(msg, class = \"try-error\", condition = e))\n . })",
      "8. tryCatchList(expr, classes, parentenv, handlers)",
      "9. tryCatchOne(expr, names, parentenv, handlers[[1L]])",
      "10. doTryCatch(return(expr), name, parentenv, handler)",
      "11. fun()",
      "12. handle_output(TRUE)",
      "13. w$get_new(plot, incomplete_plots, output_handler$text, output_handler$graphics)",
      "14. graphics_callback(out$graphics)",
      "15. send_plot(last_recorded_plot)",
      "16. tryCatch({\n  .     formats[[mime]] <- mime2repr[[mime]](plotobj, attr(plotobj, \n  .         \".irkernel_width\"), attr(plotobj, \".irkernel_height\"))\n  . }, error = handle_error)"
     ]
    },
    {
     "data": {
      "text/plain": [
       "Plot with title \"\""
      ]
     },
     "metadata": {},
     "output_type": "display_data"
    },
    {
     "name": "stderr",
     "output_type": "stream",
     "text": [
      "Warning message in png(tf, width, height, \"in\", pointsize, bg, res, antialias = antialias):\n",
      "\"unable to open file 'C:\\Users\\adrianne\\AppData\\Local\\Temp\\RtmpkRw2hP\\fileb2c47594db8.png' for writing\"Warning message in png(tf, width, height, \"in\", pointsize, bg, res, antialias = antialias):\n",
      "\"opening device failed\""
     ]
    },
    {
     "ename": "ERROR",
     "evalue": "Error in png(tf, width, height, \"in\", pointsize, bg, res, antialias = antialias): unable to start png() device\n",
     "output_type": "error",
     "traceback": [
      "Error in png(tf, width, height, \"in\", pointsize, bg, res, antialias = antialias): unable to start png() device\nTraceback:\n",
      "1. plot(mod1)",
      "2. plot.lm(mod1)",
      "3. plot(xx, rsp, xlim = c(0, max(xx, na.rm = TRUE)), ylim = ylim, \n .     main = main, xlab = \"Leverage\", ylab = ylab5, type = \"n\", \n .     ...)",
      "4. plot.default(xx, rsp, xlim = c(0, max(xx, na.rm = TRUE)), ylim = ylim, \n .     main = main, xlab = \"Leverage\", ylab = ylab5, type = \"n\", \n .     ...)",
      "5. plot.new()",
      "6. try(fun())",
      "7. tryCatch(expr, error = function(e) {\n .     call <- conditionCall(e)\n .     if (!is.null(call)) {\n .         if (identical(call[[1L]], quote(doTryCatch))) \n .             call <- sys.call(-4L)\n .         dcall <- deparse(call)[1L]\n .         prefix <- paste(\"Error in\", dcall, \": \")\n .         LONG <- 75L\n .         sm <- strsplit(conditionMessage(e), \"\\n\")[[1L]]\n .         w <- 14L + nchar(dcall, type = \"w\") + nchar(sm[1L], type = \"w\")\n .         if (is.na(w)) \n .             w <- 14L + nchar(dcall, type = \"b\") + nchar(sm[1L], \n .                 type = \"b\")\n .         if (w > LONG) \n .             prefix <- paste0(prefix, \"\\n  \")\n .     }\n .     else prefix <- \"Error : \"\n .     msg <- paste0(prefix, conditionMessage(e), \"\\n\")\n .     .Internal(seterrmessage(msg[1L]))\n .     if (!silent && isTRUE(getOption(\"show.error.messages\"))) {\n .         cat(msg, file = outFile)\n .         .Internal(printDeferredWarnings())\n .     }\n .     invisible(structure(msg, class = \"try-error\", condition = e))\n . })",
      "8. tryCatchList(expr, classes, parentenv, handlers)",
      "9. tryCatchOne(expr, names, parentenv, handlers[[1L]])",
      "10. doTryCatch(return(expr), name, parentenv, handler)",
      "11. fun()",
      "12. handle_output(TRUE)",
      "13. w$get_new(plot, incomplete_plots, output_handler$text, output_handler$graphics)",
      "14. graphics_callback(out$graphics)",
      "15. send_plot(last_recorded_plot)",
      "16. tryCatch({\n  .     formats[[mime]] <- mime2repr[[mime]](plotobj, attr(plotobj, \n  .         \".irkernel_width\"), attr(plotobj, \".irkernel_height\"))\n  . }, error = handle_error)"
     ]
    },
    {
     "data": {
      "text/plain": [
       "Plot with title \"\""
      ]
     },
     "metadata": {},
     "output_type": "display_data"
    },
    {
     "ename": "ERROR",
     "evalue": "Error in png(tf, width, height, \"in\", pointsize, bg, res, antialias = antialias): unable to start png() device\n",
     "output_type": "error",
     "traceback": [
      "Error in png(tf, width, height, \"in\", pointsize, bg, res, antialias = antialias): unable to start png() device\nTraceback:\n"
     ]
    },
    {
     "data": {
      "text/plain": [
       "Plot with title \"\""
      ]
     },
     "metadata": {},
     "output_type": "display_data"
    },
    {
     "ename": "ERROR",
     "evalue": "Error in png(tf, width, height, \"in\", pointsize, bg, res, antialias = antialias): unable to start png() device\n",
     "output_type": "error",
     "traceback": [
      "Error in png(tf, width, height, \"in\", pointsize, bg, res, antialias = antialias): unable to start png() device\nTraceback:\n"
     ]
    },
    {
     "data": {
      "text/plain": [
       "Plot with title \"\""
      ]
     },
     "metadata": {},
     "output_type": "display_data"
    }
   ],
   "source": [
    "plot(mod1)"
   ]
  },
  {
   "cell_type": "code",
   "execution_count": null,
   "metadata": {},
   "outputs": [],
   "source": []
  }
 ],
 "metadata": {
  "kernelspec": {
   "display_name": "R",
   "language": "R",
   "name": "ir"
  },
  "language_info": {
   "codemirror_mode": "r",
   "file_extension": ".r",
   "mimetype": "text/x-r-source",
   "name": "R",
   "pygments_lexer": "r",
   "version": "3.6.1"
  }
 },
 "nbformat": 4,
 "nbformat_minor": 2
}
