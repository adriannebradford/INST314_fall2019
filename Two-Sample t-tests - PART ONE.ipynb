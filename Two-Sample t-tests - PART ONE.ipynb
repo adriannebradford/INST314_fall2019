{
 "cells": [
  {
   "cell_type": "code",
   "execution_count": 1,
   "metadata": {},
   "outputs": [
    {
     "name": "stderr",
     "output_type": "stream",
     "text": [
      "-- Attaching packages --------------------------------------- tidyverse 1.2.1 --\n",
      "v ggplot2 3.2.1     v purrr   0.3.2\n",
      "v tibble  2.1.3     v dplyr   0.8.3\n",
      "v tidyr   0.8.3     v stringr 1.4.0\n",
      "v readr   1.3.1     v forcats 0.4.0\n",
      "-- Conflicts ------------------------------------------ tidyverse_conflicts() --\n",
      "x dplyr::filter() masks stats::filter()\n",
      "x dplyr::lag()    masks stats::lag()\n"
     ]
    }
   ],
   "source": [
    "library(tidyverse)\n",
    "library(DescTools)\n",
    "library(plotrix)\n",
    "library(lsr)\n",
    "library(pwr)\n",
    "library(readxl)"
   ]
  },
  {
   "cell_type": "markdown",
   "metadata": {},
   "source": [
    "For this notebook I'm going to use a few variables I pulled out of the American National Election Studies and cleaned and recoded.  The variables are:\n",
    "\n",
    "Feeling thermometers (0-100 ratings on topics)\n",
    "- \"ft_sci\" = Feelings about Scientists\n",
    "- \"ft_bigbusn\" = Feelings about Big Business\n",
    "- \"ft_rich\" = Feelings about Rich People\n",
    "- \"ft_congress\" = Feelings about Congress\n",
    "\n",
    "And two demographic variables (I've already collapsed into two groups)\n",
    "- \"race\" = White vs. Not White\n",
    "- \"educ\" = College Grad or higher vs. lower than college grad"
   ]
  },
  {
   "cell_type": "code",
   "execution_count": 2,
   "metadata": {},
   "outputs": [
    {
     "data": {
      "text/html": [
       "<table>\n",
       "<thead><tr><th scope=col>ft_sci</th><th scope=col>ft_bigbusn</th><th scope=col>ft_rich</th><th scope=col>ft_congress</th><th scope=col>race</th><th scope=col>educ</th></tr></thead>\n",
       "<tbody>\n",
       "\t<tr><td>70                 </td><td>70                 </td><td>50                 </td><td>70                 </td><td>white              </td><td>less than BA       </td></tr>\n",
       "\t<tr><td>70                 </td><td>40                 </td><td>50                 </td><td>50                 </td><td>white              </td><td>coll grad or higher</td></tr>\n",
       "\t<tr><td>70                 </td><td>70                 </td><td>50                 </td><td>50                 </td><td>white              </td><td>less than BA       </td></tr>\n",
       "\t<tr><td>50                 </td><td>40                 </td><td>50                 </td><td>50                 </td><td>white              </td><td>less than BA       </td></tr>\n",
       "\t<tr><td>85                 </td><td>50                 </td><td>70                 </td><td>50                 </td><td>white              </td><td>less than BA       </td></tr>\n",
       "\t<tr><td>50                 </td><td>70                 </td><td>50                 </td><td> 0                 </td><td>white              </td><td>coll grad or higher</td></tr>\n",
       "</tbody>\n",
       "</table>\n"
      ],
      "text/latex": [
       "\\begin{tabular}{r|llllll}\n",
       " ft\\_sci & ft\\_bigbusn & ft\\_rich & ft\\_congress & race & educ\\\\\n",
       "\\hline\n",
       "\t 70                  & 70                  & 50                  & 70                  & white               & less than BA       \\\\\n",
       "\t 70                  & 40                  & 50                  & 50                  & white               & coll grad or higher\\\\\n",
       "\t 70                  & 70                  & 50                  & 50                  & white               & less than BA       \\\\\n",
       "\t 50                  & 40                  & 50                  & 50                  & white               & less than BA       \\\\\n",
       "\t 85                  & 50                  & 70                  & 50                  & white               & less than BA       \\\\\n",
       "\t 50                  & 70                  & 50                  &  0                  & white               & coll grad or higher\\\\\n",
       "\\end{tabular}\n"
      ],
      "text/markdown": [
       "\n",
       "| ft_sci | ft_bigbusn | ft_rich | ft_congress | race | educ |\n",
       "|---|---|---|---|---|---|\n",
       "| 70                  | 70                  | 50                  | 70                  | white               | less than BA        |\n",
       "| 70                  | 40                  | 50                  | 50                  | white               | coll grad or higher |\n",
       "| 70                  | 70                  | 50                  | 50                  | white               | less than BA        |\n",
       "| 50                  | 40                  | 50                  | 50                  | white               | less than BA        |\n",
       "| 85                  | 50                  | 70                  | 50                  | white               | less than BA        |\n",
       "| 50                  | 70                  | 50                  |  0                  | white               | coll grad or higher |\n",
       "\n"
      ],
      "text/plain": [
       "  ft_sci ft_bigbusn ft_rich ft_congress race  educ               \n",
       "1 70     70         50      70          white less than BA       \n",
       "2 70     40         50      50          white coll grad or higher\n",
       "3 70     70         50      50          white less than BA       \n",
       "4 50     40         50      50          white less than BA       \n",
       "5 85     50         70      50          white less than BA       \n",
       "6 50     70         50       0          white coll grad or higher"
      ]
     },
     "metadata": {},
     "output_type": "display_data"
    }
   ],
   "source": [
    "#load the .rds file\n",
    "anes <- readRDS(\"anes.rds\")\n",
    "head(anes)\n"
   ]
  },
  {
   "cell_type": "markdown",
   "metadata": {},
   "source": [
    "# Two Sample t-tests\n",
    "\n",
    "## Independent Samples\n",
    "\n",
    "We'll start by looking at two-sample t-tests for independent samples.  This is the most common type of two-sample t-test, used when there is no relationship between the two samples (they aren't paired in any way).\n",
    "\n",
    "The easiest way to conduct a two-sample t-test in R when you have a dataframe of observations is to specify your test in \"model format.\"  \n",
    "\n",
    "This format is \"dv ~ iv\" where dv is the name of your dependent (numerical) variable and iv is the name of your independent variable (groups).\n"
   ]
  },
  {
   "cell_type": "code",
   "execution_count": 3,
   "metadata": {},
   "outputs": [
    {
     "data": {
      "text/plain": [
       "\n",
       "\tWelch Two Sample t-test\n",
       "\n",
       "data:  ft_sci by educ\n",
       "t = 9.1345, df = 3316, p-value < 2.2e-16\n",
       "alternative hypothesis: true difference in means is not equal to 0\n",
       "95 percent confidence interval:\n",
       " 4.627323 7.156726\n",
       "sample estimates:\n",
       "mean in group coll grad or higher        mean in group less than BA \n",
       "                         80.18772                          74.29569 \n"
      ]
     },
     "metadata": {},
     "output_type": "display_data"
    }
   ],
   "source": [
    "## Conduct a t-test on the mean rating of scientists by education level\n",
    "## general form - t.test(dv ~ iv, data)\n",
    "\n",
    "\n",
    "t.test(ft_sci ~ educ, data = anes)"
   ]
  },
  {
   "cell_type": "markdown",
   "metadata": {},
   "source": [
    "The results show us our typical output - tvalue, df, p-value.  This p-value indicates that there is a significant difference in the mean feeling about scientists between those who are lower educated and those with college degrees or higher.  The reported means for the two groups in the output show us that the higher rating is among college graduates or higher.\n",
    "\n",
    "Remember that the alternative hypothesis here is just reporting the hypothesis tested (diff not equal to 0) and has no bearing on the result of the t-test.\n",
    "\n",
    "The 95% confidence interval is the 95% confidence interval in the <b> difference </b> between the two means.  We know that the difference is signficant because the 95% confidence interval doesn't contain 0."
   ]
  },
  {
   "cell_type": "markdown",
   "metadata": {},
   "source": [
    "## Unequal Variances\n",
    "\n",
    "You may have noticed above that R ran something called the \"Welch Two Sample t-test,\" which is a form of the two-sample t-test that does not assume that the variances of the means of the two groups are equal.  \n",
    "\n",
    "If we want to use the form of the calculation for equal variances we need to first test to see if our variances are equal.\n",
    "\n",
    "This test looks at the ratio of our two variances: \n",
    "\n",
    "## $$\\frac{\\sigma_1^2}{\\sigma_2^2}$$\n",
    "\n",
    "The closer that this ratio is to 1, the more equal the variances are.\n",
    "\n",
    "Because the test is looking at a ratio, we will use an F-value to test our hypothesis of equal variance - the F-value has two parameters, numerator degrees of freedom and denominator degrees of freedom.\n",
    "\n",
    "The hypotheses for our test of equal variances are:\n",
    "\n",
    "$H_0: var1 = var2 $ (equal variances)\n",
    "\n",
    "$H_A: var1 \\neq var2 $ (unequal variances)\n",
    "\n",
    "In this case, failing to reject null is often seen as \"good\" because it means our variances are equal enough to use that version of the t-test.\n",
    "\n",
    "If we reject null, we must use the version of the t-test that takes unequal variances into account.\n"
   ]
  },
  {
   "cell_type": "code",
   "execution_count": 4,
   "metadata": {},
   "outputs": [
    {
     "data": {
      "text/plain": [
       "\n",
       "\tF test to compare two variances\n",
       "\n",
       "data:  anes$ft_sci by anes$educ\n",
       "F = 0.76954, num df = 1432, denom df = 2089, p-value = 9.067e-08\n",
       "alternative hypothesis: true ratio of variances is not equal to 1\n",
       "95 percent confidence interval:\n",
       " 0.7000132 0.8467061\n",
       "sample estimates:\n",
       "ratio of variances \n",
       "         0.7695443 \n"
      ]
     },
     "metadata": {},
     "output_type": "display_data"
    }
   ],
   "source": [
    "## test to see if our groups (educ) have equal variances for the ft rating about scientists\n",
    "## general form - var.test(dv ~ iv)\n",
    "\n",
    "var.test(anes$ft_sci ~ anes$educ)"
   ]
  },
  {
   "cell_type": "markdown",
   "metadata": {},
   "source": [
    "The output shows us that the ratio of variances is 0.769 - meaning that the denominator variance was greater than the numerator variance.  \n",
    "\n",
    "We get our F-value and our two degrees of freedom - one for the numerator and one for the denominator - these are n-1 for each of our groups we're comparing (college grad and greater vs. less than college grad)\n",
    "\n",
    "Our p-value is very low, which means we reject the null hypothesis.  This provides support for the alternative hypothesis, which says that the true ratio of variances is not equal to 1 (unequal variances).  We can also see that our 95% confidence interval for the ratio of variances does not contain one, so they are significantly unequal.\n",
    "\n",
    "This means that we do need to use the Welch Two-Sample t-test\" which again, is the default in R `t.test()`.\n",
    "\n",
    "If we wanted to run the t-test assuming equal variances, the code would be: "
   ]
  },
  {
   "cell_type": "code",
   "execution_count": 5,
   "metadata": {},
   "outputs": [
    {
     "data": {
      "text/plain": [
       "\n",
       "\tTwo Sample t-test\n",
       "\n",
       "data:  ft_sci by educ\n",
       "t = 8.9152, df = 3521, p-value < 2.2e-16\n",
       "alternative hypothesis: true difference in means is not equal to 0\n",
       "95 percent confidence interval:\n",
       " 4.596243 7.187805\n",
       "sample estimates:\n",
       "mean in group coll grad or higher        mean in group less than BA \n",
       "                         80.18772                          74.29569 \n"
      ]
     },
     "metadata": {},
     "output_type": "display_data"
    }
   ],
   "source": [
    "## Conduct a t-test on the mean rating of scientists by education level - assume equal variances\n",
    "## general form - t.test(dv ~ iv, data, var.equal = TRUE)\n",
    "t.test(ft_sci ~ educ, data = anes, var.equal = TRUE)"
   ]
  },
  {
   "cell_type": "markdown",
   "metadata": {},
   "source": [
    "In this case our results are essentially similar, but there are slight differences in the values."
   ]
  },
  {
   "cell_type": "code",
   "execution_count": 6,
   "metadata": {},
   "outputs": [],
   "source": [
    "# run both, save results\n",
    "eqv <- t.test(ft_sci ~ educ, data = anes, var.equal = TRUE)\n",
    "uneqv <- t.test(ft_sci ~ educ, data = anes)"
   ]
  },
  {
   "cell_type": "code",
   "execution_count": 7,
   "metadata": {},
   "outputs": [
    {
     "name": "stdout",
     "output_type": "stream",
     "text": [
      "List of 10\n",
      " $ statistic  : Named num 8.92\n",
      "  ..- attr(*, \"names\")= chr \"t\"\n",
      " $ parameter  : Named num 3521\n",
      "  ..- attr(*, \"names\")= chr \"df\"\n",
      " $ p.value    : num 7.66e-19\n",
      " $ conf.int   : num [1:2] 4.6 7.19\n",
      "  ..- attr(*, \"conf.level\")= num 0.95\n",
      " $ estimate   : Named num [1:2] 80.2 74.3\n",
      "  ..- attr(*, \"names\")= chr [1:2] \"mean in group coll grad or higher\" \"mean in group less than BA\"\n",
      " $ null.value : Named num 0\n",
      "  ..- attr(*, \"names\")= chr \"difference in means\"\n",
      " $ stderr     : num 0.661\n",
      " $ alternative: chr \"two.sided\"\n",
      " $ method     : chr \" Two Sample t-test\"\n",
      " $ data.name  : chr \"ft_sci by educ\"\n",
      " - attr(*, \"class\")= chr \"htest\"\n"
     ]
    }
   ],
   "source": [
    "# Like before, our saved t-test has many saved pieces we can extract.  Let's look at the structure\n",
    "str(eqv)"
   ]
  },
  {
   "cell_type": "code",
   "execution_count": 8,
   "metadata": {},
   "outputs": [
    {
     "data": {
      "text/html": [
       "<strong>t:</strong> 8.91518310013025"
      ],
      "text/latex": [
       "\\textbf{t:} 8.91518310013025"
      ],
      "text/markdown": [
       "**t:** 8.91518310013025"
      ],
      "text/plain": [
       "       t \n",
       "8.915183 "
      ]
     },
     "metadata": {},
     "output_type": "display_data"
    },
    {
     "data": {
      "text/html": [
       "<strong>t:</strong> 9.13446454278674"
      ],
      "text/latex": [
       "\\textbf{t:} 9.13446454278674"
      ],
      "text/markdown": [
       "**t:** 9.13446454278674"
      ],
      "text/plain": [
       "       t \n",
       "9.134465 "
      ]
     },
     "metadata": {},
     "output_type": "display_data"
    }
   ],
   "source": [
    "# compare t-values\n",
    "eqv$statistic\n",
    "uneqv$statistic"
   ]
  },
  {
   "cell_type": "code",
   "execution_count": 9,
   "metadata": {},
   "outputs": [
    {
     "data": {
      "text/html": [
       "<strong>df:</strong> 3521"
      ],
      "text/latex": [
       "\\textbf{df:} 3521"
      ],
      "text/markdown": [
       "**df:** 3521"
      ],
      "text/plain": [
       "  df \n",
       "3521 "
      ]
     },
     "metadata": {},
     "output_type": "display_data"
    },
    {
     "data": {
      "text/html": [
       "<strong>df:</strong> 3316.03649764284"
      ],
      "text/latex": [
       "\\textbf{df:} 3316.03649764284"
      ],
      "text/markdown": [
       "**df:** 3316.03649764284"
      ],
      "text/plain": [
       "      df \n",
       "3316.036 "
      ]
     },
     "metadata": {},
     "output_type": "display_data"
    },
    {
     "data": {
      "text/html": [
       "3523"
      ],
      "text/latex": [
       "3523"
      ],
      "text/markdown": [
       "3523"
      ],
      "text/plain": [
       "[1] 3523"
      ]
     },
     "metadata": {},
     "output_type": "display_data"
    }
   ],
   "source": [
    "# compare degrees of freedom\n",
    "eqv$parameter\n",
    "uneqv$parameter\n",
    "length(anes$ft_sci) ## n in dataframe"
   ]
  },
  {
   "cell_type": "markdown",
   "metadata": {},
   "source": [
    "Why are our degrees of freedom different? The t-test that assumes equal variances in the two groups uses the expected n-2.  The Welch t-test has something lower, and it has decimal places?  This is because the degrees of freedom are approximated using a formula called the Welch–Satterthwaite equation.  All of the adjustments are made to account for the unequal variances.  \n",
    "\n",
    "There is no benefit, however, to running the t-test with equal variances.  The Welch Two-Sample t-test works for both equal and unequal variances, which is why it is the default in R."
   ]
  },
  {
   "cell_type": "markdown",
   "metadata": {},
   "source": [
    "## Confidence Intervals\n",
    "Like I said before the confidence intervals provided in the t-test output are the 95% CI for the <b><i> difference </b></i> in the means.  If this CI doesn't contain 0, the difference in the means is significantly different from zero.\n",
    "\n",
    "Let's look at another variable to test, feeling rating about congress by race (white vs. non-white)"
   ]
  },
  {
   "cell_type": "code",
   "execution_count": 10,
   "metadata": {},
   "outputs": [
    {
     "data": {
      "text/plain": [
       "\n",
       "\tWelch Two Sample t-test\n",
       "\n",
       "data:  ft_congress by race\n",
       "t = 7.3471, df = 1570.9, p-value = 3.241e-13\n",
       "alternative hypothesis: true difference in means is not equal to 0\n",
       "95 percent confidence interval:\n",
       " 4.731749 8.178400\n",
       "sample estimates:\n",
       "mean in group not_white     mean in group white \n",
       "               47.35863                40.90355 \n"
      ]
     },
     "metadata": {},
     "output_type": "display_data"
    }
   ],
   "source": [
    "## Conduct a t-test on the mean rating of congress by race\n",
    "## general form - t.test(dv ~ iv, data)\n",
    "\n",
    "t.test(ft_congress ~ race, data = anes) \n",
    "## don't need any options about equality of variances - we'll use the default that assumes they are not equal"
   ]
  },
  {
   "cell_type": "markdown",
   "metadata": {},
   "source": [
    "The 95% CI for the difference in mean feeling about congress between whites and non-whites is from 4.73 to 8.18 points (on a scale from 0 to 100)."
   ]
  },
  {
   "cell_type": "markdown",
   "metadata": {},
   "source": [
    "## Paired Samples t-tests\n",
    "When our samples are not independent, they arepaired in some way, we need to use a special form of the t-test to account for the paired scores.  In most cases they are two measurements of the same variable taken from the same unit (same person) at two different times.  In other cases, it may be appropriate to use paired samples tests even if the measurements are not from the exact same person - such as if they are from spouses.  Or, in some cases medical trials pair together two individuals who match on many demographic characteristics and give one the treatement and one the control - since they were paired in that way and it determined their treatment they can't be considered independent.\n",
    "\n",
    "For a paired t-test the $SE_{diff}$ is calculated with the difference between the pre- and post- scores, where $d$ is the difference, $n$ is the number of <b> pairs </b> and $df = n-1$ (number of pairs minus 1).  \n",
    "\n",
    "# $$  t = \\frac{\\bar{X}_1 - \\bar{X}_2}{\\sqrt{\\frac{n(\\sum d^2) - (\\sum d)^2}{n-1}}}  $$\n",
    "\n",
    "This calculation should look familiar to the \"computational\" formula for variance we saw in the descriptive statistics lecture.  If we have pre- and post- scores from every person in the dataframe, then n-1 is number of people minus 1.\n",
    "\n",
    "For this example I'm going to load in another cleaned set of variables from ANES, this time pre- and post-election feeling thermometer ratings of the democratic and republican presidential candidates from 2016 (Clinton and Trump).\n",
    "\n"
   ]
  },
  {
   "cell_type": "code",
   "execution_count": 11,
   "metadata": {},
   "outputs": [
    {
     "data": {
      "text/html": [
       "<table>\n",
       "<thead><tr><th scope=col>ft_pre_dem</th><th scope=col>ft_pre_rep</th><th scope=col>ft_post_dem</th><th scope=col>ft_post_rep</th><th scope=col>partyid</th></tr></thead>\n",
       "<tbody>\n",
       "\t<tr><td> 0 </td><td>85 </td><td>15 </td><td> 85</td><td>rep</td></tr>\n",
       "\t<tr><td> 0 </td><td>85 </td><td>50 </td><td> 60</td><td>rep</td></tr>\n",
       "\t<tr><td>85 </td><td> 0 </td><td>85 </td><td> 50</td><td>dem</td></tr>\n",
       "\t<tr><td> 0 </td><td>85 </td><td> 0 </td><td>100</td><td>dem</td></tr>\n",
       "\t<tr><td>85 </td><td> 0 </td><td>70 </td><td> 15</td><td>dem</td></tr>\n",
       "\t<tr><td>50 </td><td>60 </td><td> 0 </td><td> 70</td><td>dem</td></tr>\n",
       "</tbody>\n",
       "</table>\n"
      ],
      "text/latex": [
       "\\begin{tabular}{r|lllll}\n",
       " ft\\_pre\\_dem & ft\\_pre\\_rep & ft\\_post\\_dem & ft\\_post\\_rep & partyid\\\\\n",
       "\\hline\n",
       "\t  0  & 85  & 15  &  85 & rep\\\\\n",
       "\t  0  & 85  & 50  &  60 & rep\\\\\n",
       "\t 85  &  0  & 85  &  50 & dem\\\\\n",
       "\t  0  & 85  &  0  & 100 & dem\\\\\n",
       "\t 85  &  0  & 70  &  15 & dem\\\\\n",
       "\t 50  & 60  &  0  &  70 & dem\\\\\n",
       "\\end{tabular}\n"
      ],
      "text/markdown": [
       "\n",
       "| ft_pre_dem | ft_pre_rep | ft_post_dem | ft_post_rep | partyid |\n",
       "|---|---|---|---|---|\n",
       "|  0  | 85  | 15  |  85 | rep |\n",
       "|  0  | 85  | 50  |  60 | rep |\n",
       "| 85  |  0  | 85  |  50 | dem |\n",
       "|  0  | 85  |  0  | 100 | dem |\n",
       "| 85  |  0  | 70  |  15 | dem |\n",
       "| 50  | 60  |  0  |  70 | dem |\n",
       "\n"
      ],
      "text/plain": [
       "  ft_pre_dem ft_pre_rep ft_post_dem ft_post_rep partyid\n",
       "1  0         85         15           85         rep    \n",
       "2  0         85         50           60         rep    \n",
       "3 85          0         85           50         dem    \n",
       "4  0         85          0          100         dem    \n",
       "5 85          0         70           15         dem    \n",
       "6 50         60          0           70         dem    "
      ]
     },
     "metadata": {},
     "output_type": "display_data"
    }
   ],
   "source": [
    "#load the .rds file\n",
    "anes2 <- readRDS(\"anes2.rds\")\n",
    "head(anes2)"
   ]
  },
  {
   "cell_type": "markdown",
   "metadata": {},
   "source": [
    "I'm going to first compare the mean rating of the democratic candidate, Clinton, pre- and post-election among all respondents."
   ]
  },
  {
   "cell_type": "code",
   "execution_count": 12,
   "metadata": {},
   "outputs": [
    {
     "data": {
      "text/plain": [
       "\n",
       "\tPaired t-test\n",
       "\n",
       "data:  anes2$ft_pre_dem and anes2$ft_post_dem\n",
       "t = -3.4291, df = 2237, p-value = 0.0006167\n",
       "alternative hypothesis: true difference in means is not equal to 0\n",
       "95 percent confidence interval:\n",
       " -1.8710909 -0.5096062\n",
       "sample estimates:\n",
       "mean of the differences \n",
       "              -1.190349 \n"
      ]
     },
     "metadata": {},
     "output_type": "display_data"
    }
   ],
   "source": [
    "## paired t-test code -  t.test(pre, post, pooled=F, paired=T)\n",
    "## pooled is F (false) because it's a single sample, repeated\n",
    "## paired is T (true) because we're conducting a paired t-test\n",
    "\n",
    "t.test(anes2$ft_pre_dem, anes2$ft_post_dem, pooled=F, paired=T)\n"
   ]
  },
  {
   "cell_type": "markdown",
   "metadata": {},
   "source": [
    "This result again looks very similar to what we've seen previously, and our p-value is less than alpha = 0.05 so we can reject the hypothesis that the difference in means is 0, therefore we conclude that there is a statistically significant difference in the pre- and post-election ratings of Hilary Clinton.\n",
    "\n",
    "Again, the confidence interval is for the difference in means - the negative number is a bit confusing - it comes from pre minus post, so the mean was higher in the post-election interview.  The mean displayed in the output is also just the difference, not the means of the two ratings.  If we're interested in those we can compare:"
   ]
  },
  {
   "cell_type": "code",
   "execution_count": 13,
   "metadata": {},
   "outputs": [
    {
     "data": {
      "text/html": [
       "45.8172475424486"
      ],
      "text/latex": [
       "45.8172475424486"
      ],
      "text/markdown": [
       "45.8172475424486"
      ],
      "text/plain": [
       "[1] 45.81725"
      ]
     },
     "metadata": {},
     "output_type": "display_data"
    },
    {
     "data": {
      "text/html": [
       "47.0075960679178"
      ],
      "text/latex": [
       "47.0075960679178"
      ],
      "text/markdown": [
       "47.0075960679178"
      ],
      "text/plain": [
       "[1] 47.0076"
      ]
     },
     "metadata": {},
     "output_type": "display_data"
    },
    {
     "data": {
      "text/html": [
       "-1.19034852546917"
      ],
      "text/latex": [
       "-1.19034852546917"
      ],
      "text/markdown": [
       "-1.19034852546917"
      ],
      "text/plain": [
       "[1] -1.190349"
      ]
     },
     "metadata": {},
     "output_type": "display_data"
    }
   ],
   "source": [
    "# get means for pre- and post- Clinton ratings\n",
    "mean(anes2$ft_pre_dem)\n",
    "mean(anes2$ft_post_dem)\n",
    "mean(anes2$ft_pre_dem) - mean(anes2$ft_post_dem) ## difference in means"
   ]
  },
  {
   "cell_type": "markdown",
   "metadata": {},
   "source": [
    "We could also look at the difference within the party ids, but by running t-tests separately for each subgroup."
   ]
  },
  {
   "cell_type": "code",
   "execution_count": 14,
   "metadata": {},
   "outputs": [
    {
     "data": {
      "text/plain": [
       "\n",
       "\tPaired t-test\n",
       "\n",
       "data:  dems$ft_pre_dem and dems$ft_post_dem\n",
       "t = -1.9124, df = 1217, p-value = 0.05605\n",
       "alternative hypothesis: true difference in means is not equal to 0\n",
       "95 percent confidence interval:\n",
       " -1.98096306  0.02529804\n",
       "sample estimates:\n",
       "mean of the differences \n",
       "             -0.9778325 \n"
      ]
     },
     "metadata": {},
     "output_type": "display_data"
    }
   ],
   "source": [
    "## paired t-test filtered group of only democrats\n",
    "dems <- anes2  %>% filter(partyid == \"dem\")\n",
    "t.test(dems$ft_pre_dem, dems$ft_post_dem, pooled=F, paired=T)"
   ]
  },
  {
   "cell_type": "markdown",
   "metadata": {},
   "source": [
    "For the democrats the difference in pre- and post-election ratings was much smaller, and is not significant at alpha = 0.05.  The p-value is greater than 0.05 and the confidence interval crosses over 0.  This means that there is NOT a statistically signficant difference between the pre- and post-election ratings of Clinton among democrats."
   ]
  },
  {
   "cell_type": "code",
   "execution_count": 15,
   "metadata": {},
   "outputs": [
    {
     "data": {
      "text/plain": [
       "\n",
       "\tPaired t-test\n",
       "\n",
       "data:  reps$ft_pre_rep and reps$ft_post_rep\n",
       "t = -9.7663, df = 1019, p-value < 2.2e-16\n",
       "alternative hypothesis: true difference in means is not equal to 0\n",
       "95 percent confidence interval:\n",
       " -6.570947 -4.372190\n",
       "sample estimates:\n",
       "mean of the differences \n",
       "              -5.471569 \n"
      ]
     },
     "metadata": {},
     "output_type": "display_data"
    }
   ],
   "source": [
    "## paired t-test filtered group of only republicans - ratings of Trump\n",
    "reps <- anes2  %>% filter(partyid == \"rep\")\n",
    "t.test(reps$ft_pre_rep, reps$ft_post_rep, pooled=F, paired=T)"
   ]
  },
  {
   "cell_type": "code",
   "execution_count": 16,
   "metadata": {},
   "outputs": [
    {
     "data": {
      "text/html": [
       "65.2578431372549"
      ],
      "text/latex": [
       "65.2578431372549"
      ],
      "text/markdown": [
       "65.2578431372549"
      ],
      "text/plain": [
       "[1] 65.25784"
      ]
     },
     "metadata": {},
     "output_type": "display_data"
    },
    {
     "data": {
      "text/html": [
       "70.7294117647059"
      ],
      "text/latex": [
       "70.7294117647059"
      ],
      "text/markdown": [
       "70.7294117647059"
      ],
      "text/plain": [
       "[1] 70.72941"
      ]
     },
     "metadata": {},
     "output_type": "display_data"
    }
   ],
   "source": [
    "mean(reps$ft_pre_rep)\n",
    "mean(reps$ft_post_rep)"
   ]
  },
  {
   "cell_type": "code",
   "execution_count": null,
   "metadata": {},
   "outputs": [],
   "source": []
  }
 ],
 "metadata": {
  "kernelspec": {
   "display_name": "R",
   "language": "R",
   "name": "ir"
  },
  "language_info": {
   "codemirror_mode": "r",
   "file_extension": ".r",
   "mimetype": "text/x-r-source",
   "name": "R",
   "pygments_lexer": "r",
   "version": "3.6.1"
  }
 },
 "nbformat": 4,
 "nbformat_minor": 2
}
