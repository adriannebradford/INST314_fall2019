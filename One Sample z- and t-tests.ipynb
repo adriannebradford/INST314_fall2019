{
 "cells": [
  {
   "cell_type": "markdown",
   "metadata": {},
   "source": [
    "## One-Sample t-tests\n",
    "One sample t-tests are used to compare the mean of some data with a known value.  Because it is unlikely that you will be comparing your sample data with a known population mean that has a known population standard error, we will focus on t- and not z-tests."
   ]
  },
  {
   "cell_type": "markdown",
   "metadata": {},
   "source": [
    "### Load Packages"
   ]
  },
  {
   "cell_type": "code",
   "execution_count": 1,
   "metadata": {},
   "outputs": [
    {
     "name": "stderr",
     "output_type": "stream",
     "text": [
      "-- Attaching packages --------------------------------------- tidyverse 1.2.1 --\n",
      "v ggplot2 3.2.1     v purrr   0.3.2\n",
      "v tibble  2.1.3     v dplyr   0.8.3\n",
      "v tidyr   0.8.3     v stringr 1.4.0\n",
      "v readr   1.3.1     v forcats 0.4.0\n",
      "-- Conflicts ------------------------------------------ tidyverse_conflicts() --\n",
      "x dplyr::filter() masks stats::filter()\n",
      "x dplyr::lag()    masks stats::lag()\n"
     ]
    }
   ],
   "source": [
    "library(tidyverse)\n",
    "library(DescTools)\n",
    "library(plotrix)\n",
    "library(lsr)\n",
    "library(pwr)\n",
    "library(readxl)\n",
    "\n",
    "options(repr.plot.width=5, repr.plot.height=5) ## set options for plot size within the notebook -\n",
    "# this is only for jupyter notebooks, you can disregard this."
   ]
  },
  {
   "cell_type": "markdown",
   "metadata": {},
   "source": [
    "We'll use the mtcars dataset for this example"
   ]
  },
  {
   "cell_type": "code",
   "execution_count": null,
   "metadata": {},
   "outputs": [],
   "source": [
    "head(mtcars)  ## remind ourselves of the setup of the mtcars dataset."
   ]
  },
  {
   "cell_type": "markdown",
   "metadata": {},
   "source": [
    "## One-Sample t-test\n",
    "We want to know if the average mpg of the cars in our sample `mtcars` is lower than the current national average of 24.7 mpg.\n",
    "\n",
    "How would we run a hypothesis test for this?"
   ]
  },
  {
   "cell_type": "markdown",
   "metadata": {},
   "source": [
    "### Step 1 - Formulate Hypothesis\n",
    "\n",
    "Population mean is $\\mu$, which specified in our question - 24.7mpg\n",
    "\n",
    "Sample mean is $\\bar{x}$ which we will calculate from our data.\n",
    "\n",
    "$H_0 : \\bar{x} = 24.7$\n",
    "\n",
    "$H_A : \\bar{x} < 24.7$\n",
    "\n",
    "**Note:** Given our $H_A$ we're running a one-tailed test."
   ]
  },
  {
   "cell_type": "markdown",
   "metadata": {},
   "source": [
    "\n",
    "### Step 2 - Prepare and Check Conditions\n",
    "\n",
    "Set alpha ->>> $\\alpha = 0.05$\n",
    "\n",
    "Random and independent sample ->>> assumed for now\n",
    "\n",
    "Sample is <10% of the population? ->>> Yes\n",
    "\n",
    "Let's take a look at our distribution and summary statistics first to get an idea of our sample data."
   ]
  },
  {
   "cell_type": "code",
   "execution_count": null,
   "metadata": {},
   "outputs": [],
   "source": [
    "## IS OUR SAMPLE DISTRIBUTION NORMAL?\n",
    "qqnorm(mtcars$mpg) ## calculate QQ values\n",
    "qqline(mtcars$mpg, col=\"red\")  ## create QQ plot\n"
   ]
  },
  {
   "cell_type": "code",
   "execution_count": null,
   "metadata": {},
   "outputs": [],
   "source": [
    "summary(mtcars$mpg) ## summary statistics - mean, median, min, max, etc.\n",
    "sd(mtcars$mpg) ## standard deviation\n",
    "std.error(mtcars$mpg) ## standard error\n",
    "\n",
    "## show that the standard error is sd/sqrt(n)\n",
    "sd(mtcars$mpg)/sqrt(length(mtcars$mpg))\n",
    "\n",
    "## what is our n?\n",
    "length(mtcars$mpg)"
   ]
  },
  {
   "cell_type": "markdown",
   "metadata": {},
   "source": [
    "Our sample data deviates from normality a bit in the tails, but it's actually not that bad in terms of approximating a normal distribution.\n",
    "\n",
    "So we can already see that our sample mean is 20.09, which is lower than 24.7, but is the difference statistically significant?\n",
    "\n",
    "### Step 3 - Calculate t-statistic and p-value"
   ]
  },
  {
   "cell_type": "code",
   "execution_count": null,
   "metadata": {},
   "outputs": [],
   "source": [
    "## using t.test to calculate one-sample t-statistic - t.test(VECTOR, mu, alternative = \"one.sided\" or\" less\" or \"greater\",\n",
    "                                                                                                # conf= 1- alpha)\n",
    "\n",
    "mpg_less_test <- t.test(mtcars$mpg, mu = 24.7, alternative = \"less\", conf = 0.95)\n",
    "mpg_less_test"
   ]
  },
  {
   "cell_type": "markdown",
   "metadata": {},
   "source": [
    "**So what we see in the output is:**\n",
    "\n",
    "our t-statistic/t-value is -4.3263\n",
    "\n",
    "we have 31 degrees of freedom (n-1)\n",
    "\n",
    "It tells us in words what our H_A is\n",
    "\n",
    "and it gives us a 95% CI.  This is the 95% CI related to the \"less than\" hypothesis, therefore it starts at -Inf, because we're looking at that side of the distribution.  \n",
    "\n",
    "If we wanted a 95% CI as a range, we'd run a two-sided test."
   ]
  },
  {
   "cell_type": "code",
   "execution_count": null,
   "metadata": {},
   "outputs": [],
   "source": [
    "## rerunning t.test to obtain centered 95% CI\n",
    "\n",
    "t.test(mtcars$mpg, mu = 24.7, alternative = \"two.sided\", conf = 0.95)"
   ]
  },
  {
   "cell_type": "markdown",
   "metadata": {},
   "source": [
    "This gives a 95% CI centered around our sample mean, but it also is testing a different alternative hypothesis, whether the mean is different from 24.7 in any direction.\n",
    "\n",
    "### Going back to our one-sided test, lets graph our results."
   ]
  },
  {
   "cell_type": "code",
   "execution_count": null,
   "metadata": {},
   "outputs": [],
   "source": [
    "dof <- mpg_less_test$parameter\n",
    "tvalue <- mpg_less_test$statistic\n",
    "tcrit <- qt(0.05, df = dof)\n",
    "\n",
    "ggplot(data.frame(x = c(-5, 5)), aes(x = x)) + \n",
    "    stat_function(fun = dt, args = list(0.05,df = dof)) +  ## dt is the density function for t\n",
    "     stat_function(fun = dt, \n",
    "                  args = list(0.05, df = dof),\n",
    "                  xlim = c(-5,tcrit),  \n",
    "                  geom = \"area\",\n",
    "                  alpha=0.2) +\n",
    "    labs(x = \"t\",y=\"\") + \n",
    "    geom_vline(xintercept = tvalue, color = \"red\") +\n",
    "    annotate(geom=\"text\", x=tcrit, y=-0.004, label=paste(\"critical t = \", round(tcrit, digits = 3)),\n",
    "             color=\"blue\", fontface = 2, size = 4bel=paste(\"t-value =\", round(tvalue, digits = 2)),\n",
    "             color=\"red\", fontface = 2, size = 4)) +  ## x and y tell ggplot the coords to place your words\n",
    "    annotate(geom=\"text\", x=tvalue+1.5, y=0.2, la"
   ]
  },
  {
   "cell_type": "markdown",
   "metadata": {},
   "source": [
    "### Effect Size\n",
    "\n",
    "We now want to know how big the difference is between our sample mean and the population mean.  For this we will calculate Cohen's d."
   ]
  },
  {
   "cell_type": "code",
   "execution_count": null,
   "metadata": {},
   "outputs": [],
   "source": [
    "cohensD(mtcars$mpg, 24.7) ## cohen's d function, two arguments, our vector of data, and our population mean"
   ]
  },
  {
   "cell_type": "markdown",
   "metadata": {},
   "source": [
    "Our \"rule of thumb\" for interpreting Cohen's d is:\n",
    "\n",
    "| Cohen's d | Effect Size |\n",
    "|:---------:|:-----------:|\n",
    "| 0.20 | Small |\n",
    "| 0.50 | Medium|\n",
    "| 0.80 | Large |\n",
    "\n",
    "So our value of 0.765 is consistent with a decent effect size (e.g. difference between sample mean and null hypothesis mean).  Would you consider a difference of about 4.7 mpg a difference that would be important in the real world?"
   ]
  },
  {
   "cell_type": "markdown",
   "metadata": {},
   "source": [
    "### Power\n",
    "\n",
    "Finally, we want to see how much power our test has.  To conduct a power analysis we need 5 of the 6 pieces of information:\n",
    "\n",
    "- n: sample size\n",
    "- d: effect size (in this case cohensD)\n",
    "- sig.level: alpha\n",
    "- power: power (1-$\\beta$)\n",
    "- alternative: type of alternative hypothesis (two.sided, less, or greater)\n",
    "- type: right now we're only looking at one.sample tests\n",
    "\n",
    "When we run the power function we set one of these things to NULL, to calculate that value based on the other inputs.  Typically we will either be wanting to calculate a sample size *a priori* or to calculate the power of an analysis after you conduct the analysis.\n",
    "\n",
    "We want to get the power for our mpg analysis, so we know our arguments will be:\n",
    "\n",
    "- n = 32\n",
    "- d = 0.765\n",
    "- sig.level = 0.05\n",
    "- power = NULL\n",
    "- alternative = \"two-sided\" - Let's look at the more \"conservative\" version of the test.\n",
    "- type = \"one.sample\"\n"
   ]
  },
  {
   "cell_type": "code",
   "execution_count": null,
   "metadata": {},
   "outputs": [],
   "source": [
    "x <- pwr.t.test(d = 0.765, n = 32, sig.level=0.05, power = NULL, alternative = \"two.sided\", type = \"one.sample\")\n",
    "x"
   ]
  },
  {
   "cell_type": "markdown",
   "metadata": {},
   "source": [
    "Our power is extremely high.  If we only wanted to have a power of 0.80 we wouldn't have needed as large of a sample, given our effect size:"
   ]
  },
  {
   "cell_type": "code",
   "execution_count": null,
   "metadata": {},
   "outputs": [],
   "source": [
    "pwr.t.test(d = 0.765, n = NULL, sig.level=0.05, power = 0.80, alternative = \"two.sided\", type = \"one.sample\")"
   ]
  },
  {
   "cell_type": "markdown",
   "metadata": {},
   "source": [
    "## One Sample t-test - Proportions\n",
    "\n",
    "At the most basic level a proportion is a mean of a vector of 0/1 observations.  Given this, we can also do t-tests to calculate the difference in proportions.\n",
    "\n",
    "For this we'll use the small_gss dataset."
   ]
  },
  {
   "cell_type": "code",
   "execution_count": 3,
   "metadata": {},
   "outputs": [
    {
     "data": {
      "text/html": [
       "<table>\n",
       "<thead><tr><th scope=col>id_</th><th scope=col>year</th><th scope=col>abdefect</th><th scope=col>abnomore</th><th scope=col>abhlth</th><th scope=col>abpoor</th><th scope=col>abrape</th><th scope=col>absingle</th><th scope=col>abany</th><th scope=col>realinc</th><th scope=col>...</th><th scope=col>childs</th><th scope=col>age</th><th scope=col>educ</th><th scope=col>sex</th><th scope=col>partyid</th><th scope=col>spkath</th><th scope=col>spkrac</th><th scope=col>spkcom</th><th scope=col>spkmil</th><th scope=col>sexnow</th></tr></thead>\n",
       "<tbody>\n",
       "\t<tr><td>1                 </td><td>2016              </td><td>Yes               </td><td>Yes               </td><td>Yes               </td><td>Yes               </td><td>Yes               </td><td>Yes               </td><td>Yes               </td><td>131676.7          </td><td>...               </td><td>3                 </td><td>47                </td><td>16                </td><td>Male              </td><td>Independent       </td><td>Allowed           </td><td>Allowed           </td><td>Allowed           </td><td>Allowed           </td><td>Not applicable    </td></tr>\n",
       "\t<tr><td>2                 </td><td>2016              </td><td>Not applicable    </td><td>Not applicable    </td><td>Not applicable    </td><td>Not applicable    </td><td>Not applicable    </td><td>Not applicable    </td><td>Not applicable    </td><td> 25740.0          </td><td>...               </td><td>0                 </td><td>61                </td><td>12                </td><td>Male              </td><td>Ind,near dem      </td><td>Not applicable    </td><td>Not applicable    </td><td>Not applicable    </td><td>Not applicable    </td><td>Not applicable    </td></tr>\n",
       "\t<tr><td>3                 </td><td>2016              </td><td>No                </td><td>No                </td><td>Yes               </td><td>No                </td><td>Yes               </td><td>No                </td><td>No                </td><td> 38610.0          </td><td>...               </td><td>2                 </td><td>72                </td><td>16                </td><td>Male              </td><td>Not str republican</td><td>Allowed           </td><td>Allowed           </td><td>Allowed           </td><td>Allowed           </td><td>Not applicable    </td></tr>\n",
       "\t<tr><td>4                 </td><td>2016              </td><td>No                </td><td>No                </td><td>Yes               </td><td>No                </td><td>Yes               </td><td>No                </td><td>No                </td><td>131676.7          </td><td>...               </td><td>4                 </td><td>43                </td><td>12                </td><td>Female            </td><td>Not str republican</td><td>Not allowed       </td><td>Not allowed       </td><td>Not allowed       </td><td>Allowed           </td><td>Not applicable    </td></tr>\n",
       "\t<tr><td>5                 </td><td>2016              </td><td>Yes               </td><td>Yes               </td><td>Yes               </td><td>Yes               </td><td>Yes               </td><td>Yes               </td><td>Yes               </td><td>131676.7          </td><td>...               </td><td>2                 </td><td>55                </td><td>18                </td><td>Female            </td><td>Not str democrat  </td><td>Allowed           </td><td>Not allowed       </td><td>Allowed           </td><td>Not allowed       </td><td>Not applicable    </td></tr>\n",
       "\t<tr><td>6                 </td><td>2016              </td><td>Not applicable    </td><td>Not applicable    </td><td>Not applicable    </td><td>Not applicable    </td><td>Not applicable    </td><td>Not applicable    </td><td>Not applicable    </td><td> 31590.0          </td><td>...               </td><td>2                 </td><td>53                </td><td>14                </td><td>Female            </td><td>Not str democrat  </td><td>Not applicable    </td><td>Not applicable    </td><td>Not applicable    </td><td>Not applicable    </td><td>Not applicable    </td></tr>\n",
       "</tbody>\n",
       "</table>\n"
      ],
      "text/latex": [
       "\\begin{tabular}{r|llllllllllllllllllllllll}\n",
       " id\\_ & year & abdefect & abnomore & abhlth & abpoor & abrape & absingle & abany & realinc & ... & childs & age & educ & sex & partyid & spkath & spkrac & spkcom & spkmil & sexnow\\\\\n",
       "\\hline\n",
       "\t 1                  & 2016               & Yes                & Yes                & Yes                & Yes                & Yes                & Yes                & Yes                & 131676.7           & ...                & 3                  & 47                 & 16                 & Male               & Independent        & Allowed            & Allowed            & Allowed            & Allowed            & Not applicable    \\\\\n",
       "\t 2                  & 2016               & Not applicable     & Not applicable     & Not applicable     & Not applicable     & Not applicable     & Not applicable     & Not applicable     &  25740.0           & ...                & 0                  & 61                 & 12                 & Male               & Ind,near dem       & Not applicable     & Not applicable     & Not applicable     & Not applicable     & Not applicable    \\\\\n",
       "\t 3                  & 2016               & No                 & No                 & Yes                & No                 & Yes                & No                 & No                 &  38610.0           & ...                & 2                  & 72                 & 16                 & Male               & Not str republican & Allowed            & Allowed            & Allowed            & Allowed            & Not applicable    \\\\\n",
       "\t 4                  & 2016               & No                 & No                 & Yes                & No                 & Yes                & No                 & No                 & 131676.7           & ...                & 4                  & 43                 & 12                 & Female             & Not str republican & Not allowed        & Not allowed        & Not allowed        & Allowed            & Not applicable    \\\\\n",
       "\t 5                  & 2016               & Yes                & Yes                & Yes                & Yes                & Yes                & Yes                & Yes                & 131676.7           & ...                & 2                  & 55                 & 18                 & Female             & Not str democrat   & Allowed            & Not allowed        & Allowed            & Not allowed        & Not applicable    \\\\\n",
       "\t 6                  & 2016               & Not applicable     & Not applicable     & Not applicable     & Not applicable     & Not applicable     & Not applicable     & Not applicable     &  31590.0           & ...                & 2                  & 53                 & 14                 & Female             & Not str democrat   & Not applicable     & Not applicable     & Not applicable     & Not applicable     & Not applicable    \\\\\n",
       "\\end{tabular}\n"
      ],
      "text/markdown": [
       "\n",
       "| id_ | year | abdefect | abnomore | abhlth | abpoor | abrape | absingle | abany | realinc | ... | childs | age | educ | sex | partyid | spkath | spkrac | spkcom | spkmil | sexnow |\n",
       "|---|---|---|---|---|---|---|---|---|---|---|---|---|---|---|---|---|---|---|---|---|\n",
       "| 1                  | 2016               | Yes                | Yes                | Yes                | Yes                | Yes                | Yes                | Yes                | 131676.7           | ...                | 3                  | 47                 | 16                 | Male               | Independent        | Allowed            | Allowed            | Allowed            | Allowed            | Not applicable     |\n",
       "| 2                  | 2016               | Not applicable     | Not applicable     | Not applicable     | Not applicable     | Not applicable     | Not applicable     | Not applicable     |  25740.0           | ...                | 0                  | 61                 | 12                 | Male               | Ind,near dem       | Not applicable     | Not applicable     | Not applicable     | Not applicable     | Not applicable     |\n",
       "| 3                  | 2016               | No                 | No                 | Yes                | No                 | Yes                | No                 | No                 |  38610.0           | ...                | 2                  | 72                 | 16                 | Male               | Not str republican | Allowed            | Allowed            | Allowed            | Allowed            | Not applicable     |\n",
       "| 4                  | 2016               | No                 | No                 | Yes                | No                 | Yes                | No                 | No                 | 131676.7           | ...                | 4                  | 43                 | 12                 | Female             | Not str republican | Not allowed        | Not allowed        | Not allowed        | Allowed            | Not applicable     |\n",
       "| 5                  | 2016               | Yes                | Yes                | Yes                | Yes                | Yes                | Yes                | Yes                | 131676.7           | ...                | 2                  | 55                 | 18                 | Female             | Not str democrat   | Allowed            | Not allowed        | Allowed            | Not allowed        | Not applicable     |\n",
       "| 6                  | 2016               | Not applicable     | Not applicable     | Not applicable     | Not applicable     | Not applicable     | Not applicable     | Not applicable     |  31590.0           | ...                | 2                  | 53                 | 14                 | Female             | Not str democrat   | Not applicable     | Not applicable     | Not applicable     | Not applicable     | Not applicable     |\n",
       "\n"
      ],
      "text/plain": [
       "  id_ year abdefect       abnomore       abhlth         abpoor        \n",
       "1 1   2016 Yes            Yes            Yes            Yes           \n",
       "2 2   2016 Not applicable Not applicable Not applicable Not applicable\n",
       "3 3   2016 No             No             Yes            No            \n",
       "4 4   2016 No             No             Yes            No            \n",
       "5 5   2016 Yes            Yes            Yes            Yes           \n",
       "6 6   2016 Not applicable Not applicable Not applicable Not applicable\n",
       "  abrape         absingle       abany          realinc  ... childs age educ\n",
       "1 Yes            Yes            Yes            131676.7 ... 3      47  16  \n",
       "2 Not applicable Not applicable Not applicable  25740.0 ... 0      61  12  \n",
       "3 Yes            No             No              38610.0 ... 2      72  16  \n",
       "4 Yes            No             No             131676.7 ... 4      43  12  \n",
       "5 Yes            Yes            Yes            131676.7 ... 2      55  18  \n",
       "6 Not applicable Not applicable Not applicable  31590.0 ... 2      53  14  \n",
       "  sex    partyid            spkath         spkrac         spkcom        \n",
       "1 Male   Independent        Allowed        Allowed        Allowed       \n",
       "2 Male   Ind,near dem       Not applicable Not applicable Not applicable\n",
       "3 Male   Not str republican Allowed        Allowed        Allowed       \n",
       "4 Female Not str republican Not allowed    Not allowed    Not allowed   \n",
       "5 Female Not str democrat   Allowed        Not allowed    Allowed       \n",
       "6 Female Not str democrat   Not applicable Not applicable Not applicable\n",
       "  spkmil         sexnow        \n",
       "1 Allowed        Not applicable\n",
       "2 Not applicable Not applicable\n",
       "3 Allowed        Not applicable\n",
       "4 Allowed        Not applicable\n",
       "5 Not allowed    Not applicable\n",
       "6 Not applicable Not applicable"
      ]
     },
     "metadata": {},
     "output_type": "display_data"
    }
   ],
   "source": [
    "small_gss <- read_xls(\"small_gss.xls\")\n",
    "head(small_gss)"
   ]
  },
  {
   "cell_type": "markdown",
   "metadata": {},
   "source": [
    "We'll look at the proportion of female respondents who report that they support abortion for any reason `abany`.  We'll compare our sample mean to the value of 61% support as reported by Pew - https://www.pewforum.org/fact-sheet/public-opinion-on-abortion/\n",
    "\n",
    "Before we can conduct our analysis I'm going to do some quick data cleaning."
   ]
  },
  {
   "cell_type": "code",
   "execution_count": 4,
   "metadata": {},
   "outputs": [
    {
     "data": {
      "text/html": [
       "<table>\n",
       "<thead><tr><th scope=col>abany</th><th scope=col>n</th></tr></thead>\n",
       "<tbody>\n",
       "\t<tr><td>No            </td><td>1733          </td></tr>\n",
       "\t<tr><td>Not applicable</td><td>1751          </td></tr>\n",
       "\t<tr><td>Yes           </td><td>1601          </td></tr>\n",
       "\t<tr><td>NA            </td><td> 130          </td></tr>\n",
       "</tbody>\n",
       "</table>\n"
      ],
      "text/latex": [
       "\\begin{tabular}{r|ll}\n",
       " abany & n\\\\\n",
       "\\hline\n",
       "\t No             & 1733          \\\\\n",
       "\t Not applicable & 1751          \\\\\n",
       "\t Yes            & 1601          \\\\\n",
       "\t NA             &  130          \\\\\n",
       "\\end{tabular}\n"
      ],
      "text/markdown": [
       "\n",
       "| abany | n |\n",
       "|---|---|\n",
       "| No             | 1733           |\n",
       "| Not applicable | 1751           |\n",
       "| Yes            | 1601           |\n",
       "| NA             |  130           |\n",
       "\n"
      ],
      "text/plain": [
       "  abany          n   \n",
       "1 No             1733\n",
       "2 Not applicable 1751\n",
       "3 Yes            1601\n",
       "4 NA              130"
      ]
     },
     "metadata": {},
     "output_type": "display_data"
    },
    {
     "data": {
      "text/html": [
       "<table>\n",
       "<thead><tr><th scope=col>abany</th><th scope=col>n</th></tr></thead>\n",
       "<tbody>\n",
       "\t<tr><td>0  </td><td>975</td></tr>\n",
       "\t<tr><td>1  </td><td>875</td></tr>\n",
       "</tbody>\n",
       "</table>\n"
      ],
      "text/latex": [
       "\\begin{tabular}{r|ll}\n",
       " abany & n\\\\\n",
       "\\hline\n",
       "\t 0   & 975\\\\\n",
       "\t 1   & 875\\\\\n",
       "\\end{tabular}\n"
      ],
      "text/markdown": [
       "\n",
       "| abany | n |\n",
       "|---|---|\n",
       "| 0   | 975 |\n",
       "| 1   | 875 |\n",
       "\n"
      ],
      "text/plain": [
       "  abany n  \n",
       "1 0     975\n",
       "2 1     875"
      ]
     },
     "metadata": {},
     "output_type": "display_data"
    }
   ],
   "source": [
    "small_gss  %>% count(abany) #pre-recoding counts\n",
    "df <- small_gss %>% ## save recoded version as df\n",
    "    filter (abany != \"Not applicable\")  %>% #filter out rows where abany was missing (because the question wasn't asked)\n",
    "    filter (sex == \"Female\")  %>%    ## we've defined our population as women only, so we'll subset to just those observations\n",
    "    mutate (abany = ifelse(abany == \"Yes\", 1, 0)) ## using ifelse to convert chr yes/no to numerical 1/0 \n",
    "                                                ## the format of the function is ifelse(test, valiftrue, valiffalse)\n",
    "df %>%count(abany)"
   ]
  },
  {
   "cell_type": "markdown",
   "metadata": {},
   "source": [
    "### Step 1 - Formulate Hypothesis\n",
    "\n",
    "Population proportion is $p_u$, which specified in our question - 0.61 (61%)\n",
    "\n",
    "Sample proportion is $p_s$ which we will calculate from our data.\n",
    "\n",
    "$H_0 : p_s = 0.61$\n",
    "\n",
    "$H_A : p_s \\neq 0.61$\n",
    "\n",
    "Given our $H_A$ we're running a two-tailed test."
   ]
  },
  {
   "cell_type": "markdown",
   "metadata": {},
   "source": [
    "### Step 2 - Prepare and Check Conditions\n",
    "\n",
    "Set alpha ->>> $\\alpha = 0.05$\n",
    "\n",
    "Random and independent sample ->>> assumed for now\n",
    "\n",
    "Sample is <10% of the population? ->>> Yes\n",
    "\n",
    "Let's take a look at our distribution and summary statistics first to get an idea of our sample data."
   ]
  },
  {
   "cell_type": "code",
   "execution_count": 5,
   "metadata": {},
   "outputs": [
    {
     "data": {
      "text/html": [
       "0.472972972972973"
      ],
      "text/latex": [
       "0.472972972972973"
      ],
      "text/markdown": [
       "0.472972972972973"
      ],
      "text/plain": [
       "[1] 0.472973"
      ]
     },
     "metadata": {},
     "output_type": "display_data"
    },
    {
     "data": {
      "text/html": [
       "0.0116109071036525"
      ],
      "text/latex": [
       "0.0116109071036525"
      ],
      "text/markdown": [
       "0.0116109071036525"
      ],
      "text/plain": [
       "[1] 0.01161091"
      ]
     },
     "metadata": {},
     "output_type": "display_data"
    },
    {
     "data": {
      "text/html": [
       "0.0116077685964716"
      ],
      "text/latex": [
       "0.0116077685964716"
      ],
      "text/markdown": [
       "0.0116077685964716"
      ],
      "text/plain": [
       "[1] 0.01160777"
      ]
     },
     "metadata": {},
     "output_type": "display_data"
    },
    {
     "data": {
      "text/html": [
       "1850"
      ],
      "text/latex": [
       "1850"
      ],
      "text/markdown": [
       "1850"
      ],
      "text/plain": [
       "[1] 1850"
      ]
     },
     "metadata": {},
     "output_type": "display_data"
    }
   ],
   "source": [
    "mean(df$abany) ## mean of 0/1 variable is proportion saying \"yes\"\n",
    "p <- mean(df$abany) ## save prop to use below\n",
    "\n",
    "std.error(df$abany) ## standard error\n",
    "## show that the standard error is square root of p_s(1-p_s)/n\n",
    "sqrt(p*(1-p)/length(df$abany))\n",
    "\n",
    "## what is our n?\n",
    "length(df$abany)"
   ]
  },
  {
   "cell_type": "markdown",
   "metadata": {},
   "source": [
    "So we can already see that our sample proportion is 0.47, which seems much different from 0.61, but is the difference statistically significant?\n",
    "\n",
    "(SPOILER ALERT: it has to be, like really...)\n",
    "\n",
    "### Step 3 - Calculate t-statistic and p-value\n",
    "\n",
    "The correct way to compare a one-sample proportion with a given probability to test against, is by using `prop.test()`.\n",
    "\n",
    "#### prop.test()\n",
    "`prop.test()` takes 5 arguments:\n",
    "\n",
    "- x = the total number of \"yes\" or \"success\" or ones\n",
    "- n = the total number of observations\n",
    "- p = the probability to test against (default is 0.5)\n",
    "- alternative = the type of test to conduct (\"two.sided\", \"less\", or \"greater\") depending on your alternative hypothesis\n",
    "- correct = optional to use Yates' continuity correction - default is TRUE"
   ]
  },
  {
   "cell_type": "code",
   "execution_count": 6,
   "metadata": {},
   "outputs": [
    {
     "data": {
      "text/plain": [
       "\n",
       "\t1-sample proportions test with continuity correction\n",
       "\n",
       "data:  x out of n, null probability p\n",
       "X-squared = 145.44, df = 1, p-value < 2.2e-16\n",
       "alternative hypothesis: true p is not equal to 0.61\n",
       "95 percent confidence interval:\n",
       " 0.4500326 0.4960266\n",
       "sample estimates:\n",
       "       p \n",
       "0.472973 \n"
      ]
     },
     "metadata": {},
     "output_type": "display_data"
    }
   ],
   "source": [
    "# prop.test(x, n, p = NULL, alternative = \"two.sided\", correct = TRUE)\n",
    "x = sum(df$abany) ## summing a 0/1 variable gives you the count of \"yesses\"\n",
    "n = length(df$abany) ## length of a vector gives you the number of values in that vector\n",
    "p = 0.61 ## the probability we want to test against\n",
    "prop.test(x, n, p = p, alternative = \"two.sided\")"
   ]
  },
  {
   "cell_type": "markdown",
   "metadata": {},
   "source": [
    "Our output shows a chi-squared value, not a t-value!  That's because under the hood R is calculating this using the chi-square distribution because we're looking at frequencies (counts).  Our extremely low p-value indicates that we can reject the null hypothesis (no surprise).\n",
    "\n",
    "#### t.test() with 0/1 data\n",
    "\n",
    "Given that our proportion is a mean of a 0/1 variable, we can simply use our t-test function and obtain similar results."
   ]
  },
  {
   "cell_type": "code",
   "execution_count": 7,
   "metadata": {},
   "outputs": [
    {
     "data": {
      "text/plain": [
       "\n",
       "\tOne Sample t-test\n",
       "\n",
       "data:  df$abany\n",
       "t = -11.802, df = 1849, p-value < 2.2e-16\n",
       "alternative hypothesis: true mean is not equal to 0.61\n",
       "95 percent confidence interval:\n",
       " 0.4502011 0.4957448\n",
       "sample estimates:\n",
       "mean of x \n",
       " 0.472973 \n"
      ]
     },
     "metadata": {},
     "output_type": "display_data"
    }
   ],
   "source": [
    "prop_t <- t.test(df$abany, mu = 0.61, alternative = \"two.sided\", conf = 0.95) ### remember we can save our results\n",
    "prop_t ## and then print them"
   ]
  },
  {
   "cell_type": "markdown",
   "metadata": {},
   "source": [
    "We see almost identical results, but this time we have a t-value and our alternative hypothesis references a mean of 0.61.\n",
    "\n",
    "In that block I saved the results to an object called `prop_t`.  Remember when we did the chi-square test that that object held all of the information outputted from the test.  Let's look at the structure of that object."
   ]
  },
  {
   "cell_type": "code",
   "execution_count": 8,
   "metadata": {},
   "outputs": [
    {
     "name": "stdout",
     "output_type": "stream",
     "text": [
      "List of 10\n",
      " $ statistic  : Named num -11.8\n",
      "  ..- attr(*, \"names\")= chr \"t\"\n",
      " $ parameter  : Named num 1849\n",
      "  ..- attr(*, \"names\")= chr \"df\"\n",
      " $ p.value    : num 4.83e-31\n",
      " $ conf.int   : num [1:2] 0.45 0.496\n",
      "  ..- attr(*, \"conf.level\")= num 0.95\n",
      " $ estimate   : Named num 0.473\n",
      "  ..- attr(*, \"names\")= chr \"mean of x\"\n",
      " $ null.value : Named num 0.61\n",
      "  ..- attr(*, \"names\")= chr \"mean\"\n",
      " $ stderr     : num 0.0116\n",
      " $ alternative: chr \"two.sided\"\n",
      " $ method     : chr \"One Sample t-test\"\n",
      " $ data.name  : chr \"df$abany\"\n",
      " - attr(*, \"class\")= chr \"htest\"\n"
     ]
    }
   ],
   "source": [
    "str(prop_t) ## look at the structure of the t.test output"
   ]
  },
  {
   "cell_type": "markdown",
   "metadata": {},
   "source": [
    "We get all of the \"pieces\" of the result as parts of the object - it's a list where we have key:value pairs.  We can use those keys to obtain the single pieces of information we want."
   ]
  },
  {
   "cell_type": "code",
   "execution_count": 9,
   "metadata": {},
   "outputs": [
    {
     "data": {
      "text/html": [
       "<strong>t:</strong> -11.8015781027067"
      ],
      "text/latex": [
       "\\textbf{t:} -11.8015781027067"
      ],
      "text/markdown": [
       "**t:** -11.8015781027067"
      ],
      "text/plain": [
       "        t \n",
       "-11.80158 "
      ]
     },
     "metadata": {},
     "output_type": "display_data"
    },
    {
     "data": {
      "text/html": [
       "<strong>df:</strong> 1849"
      ],
      "text/latex": [
       "\\textbf{df:} 1849"
      ],
      "text/markdown": [
       "**df:** 1849"
      ],
      "text/plain": [
       "  df \n",
       "1849 "
      ]
     },
     "metadata": {},
     "output_type": "display_data"
    },
    {
     "data": {
      "text/html": [
       "<ol class=list-inline>\n",
       "\t<li>0.45020110681115</li>\n",
       "\t<li>0.495744839134796</li>\n",
       "</ol>\n"
      ],
      "text/latex": [
       "\\begin{enumerate*}\n",
       "\\item 0.45020110681115\n",
       "\\item 0.495744839134796\n",
       "\\end{enumerate*}\n"
      ],
      "text/markdown": [
       "1. 0.45020110681115\n",
       "2. 0.495744839134796\n",
       "\n",
       "\n"
      ],
      "text/plain": [
       "[1] 0.4502011 0.4957448\n",
       "attr(,\"conf.level\")\n",
       "[1] 0.95"
      ]
     },
     "metadata": {},
     "output_type": "display_data"
    }
   ],
   "source": [
    "prop_t$statistic # t value/statistic\n",
    "prop_t$parameter # degrees of freedom\n",
    "prop_t$conf.int # confidence interval"
   ]
  },
  {
   "cell_type": "markdown",
   "metadata": {},
   "source": [
    "### Effect Size - Comparing Proportions\n",
    "\n",
    "To compare our proportions, we should look at Cohen's H, which is a non-directional magnitude of difference in proportions."
   ]
  },
  {
   "cell_type": "code",
   "execution_count": 10,
   "metadata": {},
   "outputs": [
    {
     "data": {
      "text/html": [
       "-0.27589488211097"
      ],
      "text/latex": [
       "-0.27589488211097"
      ],
      "text/markdown": [
       "-0.27589488211097"
      ],
      "text/plain": [
       "[1] -0.2758949"
      ]
     },
     "metadata": {},
     "output_type": "display_data"
    }
   ],
   "source": [
    "### The function is ES.h(ps,pu) - remember ps is sample prop. and pu is population (universe) prop.\n",
    "\n",
    "ES.h(mean(df$abany),0.61)\n"
   ]
  },
  {
   "cell_type": "code",
   "execution_count": 11,
   "metadata": {},
   "outputs": [
    {
     "data": {
      "text/html": [
       "0.274381117578083"
      ],
      "text/latex": [
       "0.274381117578083"
      ],
      "text/markdown": [
       "0.274381117578083"
      ],
      "text/plain": [
       "[1] 0.2743811"
      ]
     },
     "metadata": {},
     "output_type": "display_data"
    }
   ],
   "source": [
    "cohensD(df$abany, 0.61)  ## try the Cohen's D, which is the mean effect size."
   ]
  },
  {
   "cell_type": "markdown",
   "metadata": {},
   "source": [
    "We calculated Cohen's H, for proportions, and also Cohen's D to compare (given that the mean of 0/1 data is a proportion).  We got very similar results in terms of absolute magnitude.  The negative sign for the Cohen's H result is because it's a uni-directional test.  However I wouldn't rely on using Cohen's D for proportion data unless you find that they are virtually identical."
   ]
  },
  {
   "cell_type": "markdown",
   "metadata": {},
   "source": [
    "### Power\n",
    "\n",
    "We can also calculate the power of a comparison of proportions.  All of the arguments are similar to those above, except notice we're using a different formula (pwr.<b>p</b>.test, not pwr.<b>t</b>.test) and we have <b>h</b> as the effect size, not <b>d</b>."
   ]
  },
  {
   "cell_type": "code",
   "execution_count": 12,
   "metadata": {},
   "outputs": [
    {
     "data": {
      "text/plain": [
       "\n",
       "     proportion power calculation for binomial distribution (arcsine transformation) \n",
       "\n",
       "              h = 0.2758949\n",
       "              n = 1850\n",
       "      sig.level = 0.05\n",
       "          power = 1\n",
       "    alternative = two.sided\n"
      ]
     },
     "metadata": {},
     "output_type": "display_data"
    }
   ],
   "source": [
    "h1 <- ES.h(mean(df$abany), 0.61)\n",
    "n1 <- length(df$abany)\n",
    "\n",
    "\n",
    "pwr.p.test(h = h1, n= n1, sig.level=0.05, power=NULL, alternative=\"two.sided\")"
   ]
  },
  {
   "cell_type": "markdown",
   "metadata": {},
   "source": [
    "Our difference is so big that our power is virtually 1.  Which means we have pretty much no probability of Type II error.  Let's compare to using the `pwr.t.test()` function."
   ]
  },
  {
   "cell_type": "code",
   "execution_count": 13,
   "metadata": {},
   "outputs": [
    {
     "data": {
      "text/plain": [
       "\n",
       "     One-sample t test power calculation \n",
       "\n",
       "              n = 1850\n",
       "              d = 0.2743811\n",
       "      sig.level = 0.05\n",
       "          power = 1\n",
       "    alternative = two.sided\n"
      ]
     },
     "metadata": {},
     "output_type": "display_data"
    }
   ],
   "source": [
    "d1 <- cohensD(df$abany, 0.61)\n",
    "\n",
    "pwr.t.test(d = d1, \n",
    "           n = n1, ## same n1 we set in the block above\n",
    "           sig.level=0.05, \n",
    "           power = NULL, \n",
    "           alternative = \"two.sided\", \n",
    "           type = \"one.sample\")"
   ]
  },
  {
   "cell_type": "markdown",
   "metadata": {},
   "source": [
    "We get essentially the same result."
   ]
  },
  {
   "cell_type": "markdown",
   "metadata": {},
   "source": [
    "### BONUS CONTENT: Power Plots\n",
    "\n",
    "Power plots show us the range of sample sizes for a range of levels of power.  \"Optimal\" sample size line is the number of observations you would need to achieve the power specified in the function call."
   ]
  },
  {
   "cell_type": "code",
   "execution_count": 14,
   "metadata": {},
   "outputs": [
    {
     "data": {
      "image/png": "[encoded data removed]",
      "text/plain": [
       "plot without title"
      ]
     },
     "metadata": {},
     "output_type": "display_data"
    }
   ],
   "source": [
    "power_plot_data <- pwr.t.test(d=0.30, n=NULL, sig.level=0.05, power = 0.8, alternative = \"two.sided\")\n",
    "plot(power_plot_data)"
   ]
  },
  {
   "cell_type": "code",
   "execution_count": null,
   "metadata": {},
   "outputs": [],
   "source": []
  }
 ],
 "metadata": {
  "kernelspec": {
   "display_name": "R",
   "language": "R",
   "name": "ir"
  },
  "language_info": {
   "codemirror_mode": "r",
   "file_extension": ".r",
   "mimetype": "text/x-r-source",
   "name": "R",
   "pygments_lexer": "r",
   "version": "3.6.1"
  }
 },
 "nbformat": 4,
 "nbformat_minor": 2
}
