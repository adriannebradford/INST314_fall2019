{
 "cells": [
  {
   "cell_type": "markdown",
   "metadata": {},
   "source": [
    "# More Two Sample t-tests\n",
    "\n",
    "Includes:\n",
    "\n",
    "Two-sample t-test of proportions\n",
    "\n",
    "Non-parametric test\n",
    "\n",
    "Effect size\n",
    "\n",
    "Power analysis"
   ]
  },
  {
   "cell_type": "code",
   "execution_count": 32,
   "metadata": {},
   "outputs": [],
   "source": [
    "# load libraries\n",
    "library(tidyverse)\n",
    "library(DescTools)\n",
    "library(plotrix)\n",
    "library(effsize)\n",
    "library(pwr)\n",
    "library(readxl)"
   ]
  },
  {
   "cell_type": "markdown",
   "metadata": {},
   "source": [
    "## Two-sample t-test of proportions\n",
    "Two sample t-tests of proportions can largely be conducted the same way as two-sample t-tests, using the same functions. For this we'll look back at the `small_gss` data, and the `abany` variable we looked at in the one-sample t-test examples.  This is a yes/no question regarding support for abortion.  Instead of comparing the mean of the entire sample to an external value (null hypothesis mean) we'll test the difference in means between males and females."
   ]
  },
  {
   "cell_type": "code",
   "execution_count": 5,
   "metadata": {},
   "outputs": [
    {
     "data": {
      "text/html": [
       "<table>\n",
       "<thead><tr><th scope=col>abany</th><th scope=col>n</th></tr></thead>\n",
       "<tbody>\n",
       "\t<tr><td>0   </td><td>1733</td></tr>\n",
       "\t<tr><td>1   </td><td>1601</td></tr>\n",
       "</tbody>\n",
       "</table>\n"
      ],
      "text/latex": [
       "\\begin{tabular}{r|ll}\n",
       " abany & n\\\\\n",
       "\\hline\n",
       "\t 0    & 1733\\\\\n",
       "\t 1    & 1601\\\\\n",
       "\\end{tabular}\n"
      ],
      "text/markdown": [
       "\n",
       "| abany | n |\n",
       "|---|---|\n",
       "| 0    | 1733 |\n",
       "| 1    | 1601 |\n",
       "\n"
      ],
      "text/plain": [
       "  abany n   \n",
       "1 0     1733\n",
       "2 1     1601"
      ]
     },
     "metadata": {},
     "output_type": "display_data"
    },
    {
     "data": {
      "text/html": [
       "<table>\n",
       "<thead><tr><th scope=col>sex</th><th scope=col>n</th></tr></thead>\n",
       "<tbody>\n",
       "\t<tr><td>Female</td><td>1850  </td></tr>\n",
       "\t<tr><td>Male  </td><td>1484  </td></tr>\n",
       "</tbody>\n",
       "</table>\n"
      ],
      "text/latex": [
       "\\begin{tabular}{r|ll}\n",
       " sex & n\\\\\n",
       "\\hline\n",
       "\t Female & 1850  \\\\\n",
       "\t Male   & 1484  \\\\\n",
       "\\end{tabular}\n"
      ],
      "text/markdown": [
       "\n",
       "| sex | n |\n",
       "|---|---|\n",
       "| Female | 1850   |\n",
       "| Male   | 1484   |\n",
       "\n"
      ],
      "text/plain": [
       "  sex    n   \n",
       "1 Female 1850\n",
       "2 Male   1484"
      ]
     },
     "metadata": {},
     "output_type": "display_data"
    }
   ],
   "source": [
    "#read in data\n",
    "small_gss <- read_xls(\"small_gss.xls\")\n",
    "\n",
    "## some data cleaning\n",
    "df <- small_gss %>% ## save recoded version as df\n",
    "    filter (abany != \"Not applicable\")  %>% #filter out rows where abany was missing (because the question wasn't asked)\n",
    "    mutate (abany = ifelse(abany == \"Yes\", 1, 0)) ## using ifelse to convert chr yes/no to numerical 1/0 \n",
    "                                                ## the format of the function is ifelse(test, valiftrue, valiffalse)\n",
    "df %>%count(abany)\n",
    "df  %>% count(sex)"
   ]
  },
  {
   "cell_type": "markdown",
   "metadata": {},
   "source": [
    "Before we get started, we can run a var.test to see if the variances between the groups (male vs. female) on the variable are equal.  Remember this is not a requirement, if we want to we can just always run the version that assumes unequal variances."
   ]
  },
  {
   "cell_type": "code",
   "execution_count": 9,
   "metadata": {},
   "outputs": [
    {
     "data": {
      "text/plain": [
       "\n",
       "\tF test to compare two variances\n",
       "\n",
       "data:  abany by sex\n",
       "F = 0.99741, num df = 1849, denom df = 1483, p-value = 0.9566\n",
       "alternative hypothesis: true ratio of variances is not equal to 1\n",
       "95 percent confidence interval:\n",
       " 0.9052806 1.0983416\n",
       "sample estimates:\n",
       "ratio of variances \n",
       "         0.9974089 \n"
      ]
     },
     "metadata": {},
     "output_type": "display_data"
    }
   ],
   "source": [
    "## running var.test\n",
    "var.test(abany ~ sex, data = df)"
   ]
  },
  {
   "cell_type": "markdown",
   "metadata": {},
   "source": [
    "The ratio of the variances is very close to 1, and the p-value is very very large, therefore we fail to reject null and can consider our variances as equal.  So we can use the t-test version for equal variances, if we want to."
   ]
  },
  {
   "cell_type": "code",
   "execution_count": 10,
   "metadata": {},
   "outputs": [
    {
     "data": {
      "text/plain": [
       "\n",
       "\tTwo Sample t-test\n",
       "\n",
       "data:  abany by sex\n",
       "t = -0.93292, df = 3332, p-value = 0.3509\n",
       "alternative hypothesis: true difference in means is not equal to 0\n",
       "95 percent confidence interval:\n",
       " -0.05038734  0.01789663\n",
       "sample estimates:\n",
       "mean in group Female   mean in group Male \n",
       "           0.4729730            0.4892183 \n"
      ]
     },
     "metadata": {},
     "output_type": "display_data"
    }
   ],
   "source": [
    "## Conduct a t-test on the proportion (mean of 0/1 variable) of abany by sex\n",
    "## general form - t.test(dv ~ iv, data)\n",
    "\n",
    "t.test(abany ~ sex, data = df, var.equal = TRUE)"
   ]
  },
  {
   "cell_type": "markdown",
   "metadata": {},
   "source": [
    "We get our familiar two-sample t-test results.  We see that the difference in proportions supporting abortion between males and females is not significantly different.  Our p-value is larger than an alpha of 0.05 and our 95% CI of the difference contains 0."
   ]
  },
  {
   "cell_type": "markdown",
   "metadata": {},
   "source": [
    "## Non-parametric Tests\n",
    "t-tests are relatively robust to parametric violations (deviation from a normal distribution), especially at large n.  But in some conditions it's appropriate to use a non-parametric test.\n",
    "\n",
    "When it might be appropriate:\n",
    "1. DV is ordinal but should be interval or ratio\n",
    "2. DV is interval or ratio but highly skewed\n",
    "\n",
    "**The non-parametric test will test difference in MEDIANS instead of difference in MEANS.**\n",
    "\n",
    "However, there are drawbacks:\n",
    "- Less power\n",
    "- Less accurate\n",
    "- Less specific: Don’t always know why we rejected the null\n",
    "\n",
    "#### The Non-parametric t-tests:\n",
    "\n",
    "1. Mann-Whitney U test\n",
    "    - Used with independent samples (paired=F)\n",
    "    - Gives W (in R) or U (original formula) statistic instead of t\n",
    "\n",
    "\n",
    "2. Wilcoxon Rank Sum Test\n",
    "    - Used for paired tests (paired=T)\n",
    "    - Gives W statistic instead of t\n",
    "    \n",
    "For our example we will compare level of education (years) by gender, from the same `small_gss` dataset."
   ]
  },
  {
   "cell_type": "code",
   "execution_count": 13,
   "metadata": {},
   "outputs": [
    {
     "data": {
      "text/plain": [
       "\n",
       "   0    1    2    3    4    5    6    7    8    9   10   11   12   13   14   15 \n",
       "   6    5    7   13    7    7   51   26   83  110  155  213 1481  425  672  264 \n",
       "  16   17   18   19   20 \n",
       " 915  205  268  108  182 "
      ]
     },
     "metadata": {},
     "output_type": "display_data"
    },
    {
     "data": {
      "text/plain": [
       "\n",
       "Female   Male \n",
       "  2887   2328 "
      ]
     },
     "metadata": {},
     "output_type": "display_data"
    }
   ],
   "source": [
    "table(small_gss$educ)\n",
    "table(small_gss$sex)"
   ]
  },
  {
   "cell_type": "code",
   "execution_count": 14,
   "metadata": {},
   "outputs": [
    {
     "data": {
      "text/html": [
       "13"
      ],
      "text/latex": [
       "13"
      ],
      "text/markdown": [
       "13"
      ],
      "text/plain": [
       "[1] 13"
      ]
     },
     "metadata": {},
     "output_type": "display_data"
    },
    {
     "data": {
      "text/html": [
       "14"
      ],
      "text/latex": [
       "14"
      ],
      "text/markdown": [
       "14"
      ],
      "text/plain": [
       "[1] 14"
      ]
     },
     "metadata": {},
     "output_type": "display_data"
    }
   ],
   "source": [
    "# let's take a peek at the medians, since it is what we will be comparing\n",
    "median(as.numeric(small_gss$educ[small_gss$sex ==\"Male\"]), na.rm=TRUE)\n",
    "median(as.numeric(small_gss$educ[small_gss$sex ==\"Female\"]), na.rm=TRUE)"
   ]
  },
  {
   "cell_type": "markdown",
   "metadata": {},
   "source": [
    "So our median years of education is 13 for Males and 14 for Females in the GSS sample.  Let's test the difference in these medians to see if it is significant.  For this we use the Mann-Whitney test, because they are not paired values."
   ]
  },
  {
   "cell_type": "code",
   "execution_count": 15,
   "metadata": {},
   "outputs": [
    {
     "data": {
      "text/plain": [
       "\n",
       "\tWilcoxon rank sum test with continuity correction\n",
       "\n",
       "data:  as.numeric(small_gss$educ) by small_gss$sex\n",
       "W = 3395110, p-value = 0.3483\n",
       "alternative hypothesis: true location shift is not equal to 0\n"
      ]
     },
     "metadata": {},
     "output_type": "display_data"
    }
   ],
   "source": [
    "wilcox.test(as.numeric(small_gss$educ) ~ small_gss$sex, paired = FALSE) ## paired = FALSE for Mann-Whitney"
   ]
  },
  {
   "cell_type": "markdown",
   "metadata": {},
   "source": [
    "So we get a W value (our test statistic) as well as a p-value.  We interpret the p-value compared to an alpha of 0.05 and detemrine that we fail to reject null, therefore there is NO significant difference in the mean level of education between males and females.\n",
    "\n",
    "To test the paired version, we can pretend that these observations come from a sample of equivalent males/females paired on another characteristic (maybe job type?).  To do this we need to have equal numbers of male and female observations (paired)."
   ]
  },
  {
   "cell_type": "code",
   "execution_count": 26,
   "metadata": {},
   "outputs": [],
   "source": [
    "### pull out equal numbers of male and female observations \n",
    "\n",
    "males <- small_gss  %>% filter(sex == \"Male\")  %>% .[1:2000, ]  \n",
    "females <- small_gss  %>% filter(sex == \"Female\")  %>% .[1:2000, ]  "
   ]
  },
  {
   "cell_type": "code",
   "execution_count": 27,
   "metadata": {},
   "outputs": [
    {
     "data": {
      "text/plain": [
       "\n",
       "\tWilcoxon signed rank test with continuity correction\n",
       "\n",
       "data:  as.numeric(males$educ) and as.numeric(females$educ)\n",
       "V = 693242, p-value = 0.6334\n",
       "alternative hypothesis: true location shift is not equal to 0\n"
      ]
     },
     "metadata": {},
     "output_type": "display_data"
    }
   ],
   "source": [
    "wilcox.test(as.numeric(males$educ), as.numeric(females$educ), paired = TRUE) ## paired = TRUE"
   ]
  },
  {
   "cell_type": "markdown",
   "metadata": {},
   "source": [
    "Our paired sample also has no significant difference between median education level by gender."
   ]
  },
  {
   "cell_type": "markdown",
   "metadata": {},
   "source": [
    "## Effect Size\n",
    "We'll look at 4 different effect sizes for two-sample t-tests:\n",
    "- cohen's d\n",
    "- hedge's g\n",
    "- r-squared\n",
    "\n",
    "Cohen's d we already looked at in the one-sample t-test format.  Here we're using the same process, but with two-sample data (instead of a single sample mean vs. a set null hypothesis mean).\n",
    "\n",
    "Hedge's g is used instead of Cohen's d when we have small n (less than 20).\n",
    "\n",
    "R-squared is a new type of effect size we're going to talk about. It reflects the proportion of the variance in the data explained by our IV(s).  So in the case of a t-test, it's the proportion of the overall variance in our DV that is explained by the difference in the group means.  This will be something we will look at a lot when we get to regression.\n",
    "\n",
    "For these examples I'll go back to the anes data.\n"
   ]
  },
  {
   "cell_type": "code",
   "execution_count": 28,
   "metadata": {},
   "outputs": [
    {
     "data": {
      "text/html": [
       "<table>\n",
       "<thead><tr><th scope=col>ft_sci</th><th scope=col>ft_bigbusn</th><th scope=col>ft_rich</th><th scope=col>ft_congress</th><th scope=col>race</th><th scope=col>educ</th></tr></thead>\n",
       "<tbody>\n",
       "\t<tr><td>70                 </td><td>70                 </td><td>50                 </td><td>70                 </td><td>white              </td><td>less than BA       </td></tr>\n",
       "\t<tr><td>70                 </td><td>40                 </td><td>50                 </td><td>50                 </td><td>white              </td><td>coll grad or higher</td></tr>\n",
       "\t<tr><td>70                 </td><td>70                 </td><td>50                 </td><td>50                 </td><td>white              </td><td>less than BA       </td></tr>\n",
       "\t<tr><td>50                 </td><td>40                 </td><td>50                 </td><td>50                 </td><td>white              </td><td>less than BA       </td></tr>\n",
       "\t<tr><td>85                 </td><td>50                 </td><td>70                 </td><td>50                 </td><td>white              </td><td>less than BA       </td></tr>\n",
       "\t<tr><td>50                 </td><td>70                 </td><td>50                 </td><td> 0                 </td><td>white              </td><td>coll grad or higher</td></tr>\n",
       "</tbody>\n",
       "</table>\n"
      ],
      "text/latex": [
       "\\begin{tabular}{r|llllll}\n",
       " ft\\_sci & ft\\_bigbusn & ft\\_rich & ft\\_congress & race & educ\\\\\n",
       "\\hline\n",
       "\t 70                  & 70                  & 50                  & 70                  & white               & less than BA       \\\\\n",
       "\t 70                  & 40                  & 50                  & 50                  & white               & coll grad or higher\\\\\n",
       "\t 70                  & 70                  & 50                  & 50                  & white               & less than BA       \\\\\n",
       "\t 50                  & 40                  & 50                  & 50                  & white               & less than BA       \\\\\n",
       "\t 85                  & 50                  & 70                  & 50                  & white               & less than BA       \\\\\n",
       "\t 50                  & 70                  & 50                  &  0                  & white               & coll grad or higher\\\\\n",
       "\\end{tabular}\n"
      ],
      "text/markdown": [
       "\n",
       "| ft_sci | ft_bigbusn | ft_rich | ft_congress | race | educ |\n",
       "|---|---|---|---|---|---|\n",
       "| 70                  | 70                  | 50                  | 70                  | white               | less than BA        |\n",
       "| 70                  | 40                  | 50                  | 50                  | white               | coll grad or higher |\n",
       "| 70                  | 70                  | 50                  | 50                  | white               | less than BA        |\n",
       "| 50                  | 40                  | 50                  | 50                  | white               | less than BA        |\n",
       "| 85                  | 50                  | 70                  | 50                  | white               | less than BA        |\n",
       "| 50                  | 70                  | 50                  |  0                  | white               | coll grad or higher |\n",
       "\n"
      ],
      "text/plain": [
       "  ft_sci ft_bigbusn ft_rich ft_congress race  educ               \n",
       "1 70     70         50      70          white less than BA       \n",
       "2 70     40         50      50          white coll grad or higher\n",
       "3 70     70         50      50          white less than BA       \n",
       "4 50     40         50      50          white less than BA       \n",
       "5 85     50         70      50          white less than BA       \n",
       "6 50     70         50       0          white coll grad or higher"
      ]
     },
     "metadata": {},
     "output_type": "display_data"
    },
    {
     "data": {
      "text/html": [
       "<table>\n",
       "<thead><tr><th scope=col>ft_pre_dem</th><th scope=col>ft_pre_rep</th><th scope=col>ft_post_dem</th><th scope=col>ft_post_rep</th><th scope=col>partyid</th></tr></thead>\n",
       "<tbody>\n",
       "\t<tr><td> 0 </td><td>85 </td><td>15 </td><td> 85</td><td>rep</td></tr>\n",
       "\t<tr><td> 0 </td><td>85 </td><td>50 </td><td> 60</td><td>rep</td></tr>\n",
       "\t<tr><td>85 </td><td> 0 </td><td>85 </td><td> 50</td><td>dem</td></tr>\n",
       "\t<tr><td> 0 </td><td>85 </td><td> 0 </td><td>100</td><td>dem</td></tr>\n",
       "\t<tr><td>85 </td><td> 0 </td><td>70 </td><td> 15</td><td>dem</td></tr>\n",
       "\t<tr><td>50 </td><td>60 </td><td> 0 </td><td> 70</td><td>dem</td></tr>\n",
       "</tbody>\n",
       "</table>\n"
      ],
      "text/latex": [
       "\\begin{tabular}{r|lllll}\n",
       " ft\\_pre\\_dem & ft\\_pre\\_rep & ft\\_post\\_dem & ft\\_post\\_rep & partyid\\\\\n",
       "\\hline\n",
       "\t  0  & 85  & 15  &  85 & rep\\\\\n",
       "\t  0  & 85  & 50  &  60 & rep\\\\\n",
       "\t 85  &  0  & 85  &  50 & dem\\\\\n",
       "\t  0  & 85  &  0  & 100 & dem\\\\\n",
       "\t 85  &  0  & 70  &  15 & dem\\\\\n",
       "\t 50  & 60  &  0  &  70 & dem\\\\\n",
       "\\end{tabular}\n"
      ],
      "text/markdown": [
       "\n",
       "| ft_pre_dem | ft_pre_rep | ft_post_dem | ft_post_rep | partyid |\n",
       "|---|---|---|---|---|\n",
       "|  0  | 85  | 15  |  85 | rep |\n",
       "|  0  | 85  | 50  |  60 | rep |\n",
       "| 85  |  0  | 85  |  50 | dem |\n",
       "|  0  | 85  |  0  | 100 | dem |\n",
       "| 85  |  0  | 70  |  15 | dem |\n",
       "| 50  | 60  |  0  |  70 | dem |\n",
       "\n"
      ],
      "text/plain": [
       "  ft_pre_dem ft_pre_rep ft_post_dem ft_post_rep partyid\n",
       "1  0         85         15           85         rep    \n",
       "2  0         85         50           60         rep    \n",
       "3 85          0         85           50         dem    \n",
       "4  0         85          0          100         dem    \n",
       "5 85          0         70           15         dem    \n",
       "6 50         60          0           70         dem    "
      ]
     },
     "metadata": {},
     "output_type": "display_data"
    }
   ],
   "source": [
    "#load the .rds files\n",
    "anes <- readRDS(\"anes.rds\")\n",
    "anes2 <- readRDS(\"anes2.rds\")\n",
    "head(anes)\n",
    "head(anes2)"
   ]
  },
  {
   "cell_type": "markdown",
   "metadata": {},
   "source": [
    "### Cohen's d\n",
    "Let's look at the Cohen's d for our t-test of mean rating of scientists by education level, from the last lecture"
   ]
  },
  {
   "cell_type": "code",
   "execution_count": 29,
   "metadata": {},
   "outputs": [
    {
     "data": {
      "text/plain": [
       "\n",
       "\tWelch Two Sample t-test\n",
       "\n",
       "data:  ft_sci by educ\n",
       "t = 9.1345, df = 3316, p-value < 2.2e-16\n",
       "alternative hypothesis: true difference in means is not equal to 0\n",
       "95 percent confidence interval:\n",
       " 4.627323 7.156726\n",
       "sample estimates:\n",
       "mean in group coll grad or higher        mean in group less than BA \n",
       "                         80.18772                          74.29569 \n"
      ]
     },
     "metadata": {},
     "output_type": "display_data"
    }
   ],
   "source": [
    "# review the results, first\n",
    "t.test(ft_sci ~ educ, data = anes)"
   ]
  },
  {
   "cell_type": "markdown",
   "metadata": {},
   "source": [
    "Now we'll use the `cohen.d` function to calculate our effect size.  This is a function from the package `effsize` which is different from the one from the package `lsr` we used in the one-sample lab.  This one has more options for our different two-sample t-tests.\n",
    "\n",
    "Select options:\n",
    "- na.rm=T ---- ignores missing values\n",
    "- pooled=T ---- pools variance\n",
    "- paired=T ---- paired sample test; =F if independent sample test\n",
    "- hedges=T ---- add if you want Hedge’s g instead of Cohen’s d"
   ]
  },
  {
   "cell_type": "code",
   "execution_count": 39,
   "metadata": {},
   "outputs": [
    {
     "data": {
      "text/plain": [
       "\n",
       "Cohen's d\n",
       "\n",
       "d estimate: 0.3057668 (small)\n",
       "95 percent confidence interval:\n",
       "    lower     upper \n",
       "0.2381440 0.3733896 "
      ]
     },
     "metadata": {},
     "output_type": "display_data"
    }
   ],
   "source": [
    "# run cohen's d - this time using \"effsize\" package instead of \"lsr\" due to additional options\n",
    "cohen.d(as.numeric(anes$ft_sci) ~ anes$educ)"
   ]
  },
  {
   "cell_type": "markdown",
   "metadata": {},
   "source": [
    "The output tells us the magnitude of our difference after our estimate, in this case small.\n",
    "\n",
    "In general, magnitude of the estimate of d:\n",
    "- d ≥ 0.2, small effect\n",
    "- d ≥ 0.5, medium effect\n",
    "- d ≥ 0.8, large effect\n",
    "- d ≥ 1.2, very large effect\n",
    "- d ≥ 2.0, huge effect"
   ]
  },
  {
   "cell_type": "markdown",
   "metadata": {},
   "source": [
    "### Cohen's d - Paired Data\n",
    "Let's look at the Cohen's d for our pre- vs. post-election candidate ratings from ANES."
   ]
  },
  {
   "cell_type": "code",
   "execution_count": 40,
   "metadata": {},
   "outputs": [
    {
     "data": {
      "text/plain": [
       "\n",
       "\tPaired t-test\n",
       "\n",
       "data:  reps$ft_pre_rep and reps$ft_post_rep\n",
       "t = -9.7663, df = 1019, p-value < 2.2e-16\n",
       "alternative hypothesis: true difference in means is not equal to 0\n",
       "95 percent confidence interval:\n",
       " -6.570947 -4.372190\n",
       "sample estimates:\n",
       "mean of the differences \n",
       "              -5.471569 \n"
      ]
     },
     "metadata": {},
     "output_type": "display_data"
    }
   ],
   "source": [
    "## paired t-test filtered group of only republicans - ratings of Trump\n",
    "reps <- anes2  %>% filter(partyid == \"rep\")\n",
    "t.test(reps$ft_pre_rep, reps$ft_post_rep, pooled=F, paired=T)"
   ]
  },
  {
   "cell_type": "code",
   "execution_count": 42,
   "metadata": {},
   "outputs": [
    {
     "data": {
      "text/plain": [
       "\n",
       "Glass's Delta\n",
       "\n",
       "Delta estimate: -0.2012716 (small)\n",
       "95 percent confidence interval:\n",
       "     lower      upper \n",
       "-0.2420955 -0.1604478 "
      ]
     },
     "metadata": {},
     "output_type": "display_data"
    }
   ],
   "source": [
    "## and cohen's d\n",
    "cohen.d(as.numeric(reps$ft_pre_rep), as.numeric(reps$ft_post_rep), pooled=F, paired=T)"
   ]
  },
  {
   "cell_type": "markdown",
   "metadata": {},
   "source": [
    "You can ignore the name - this is Cohen's d for our paired data.  Our difference of 5 and half percentage points (unstandardized effect size) corresponds to a small standardized effect."
   ]
  },
  {
   "cell_type": "markdown",
   "metadata": {},
   "source": [
    "### Hedge's g\n",
    "Hedge's g is the alternative to Cohen's d when we have sample size less than 20.  To look at this I'll create a small \"fake\" dataset - 20 observations of animal weights - 10 dogs, 10 cats."
   ]
  },
  {
   "cell_type": "code",
   "execution_count": 47,
   "metadata": {},
   "outputs": [
    {
     "data": {
      "text/html": [
       "<table>\n",
       "<thead><tr><th scope=col>animal</th><th scope=col>weight</th></tr></thead>\n",
       "<tbody>\n",
       "\t<tr><td>dog</td><td>22 </td></tr>\n",
       "\t<tr><td>dog</td><td>44 </td></tr>\n",
       "\t<tr><td>dog</td><td>35 </td></tr>\n",
       "\t<tr><td>dog</td><td>11 </td></tr>\n",
       "\t<tr><td>dog</td><td>80 </td></tr>\n",
       "\t<tr><td>dog</td><td>56 </td></tr>\n",
       "</tbody>\n",
       "</table>\n"
      ],
      "text/latex": [
       "\\begin{tabular}{r|ll}\n",
       " animal & weight\\\\\n",
       "\\hline\n",
       "\t dog & 22 \\\\\n",
       "\t dog & 44 \\\\\n",
       "\t dog & 35 \\\\\n",
       "\t dog & 11 \\\\\n",
       "\t dog & 80 \\\\\n",
       "\t dog & 56 \\\\\n",
       "\\end{tabular}\n"
      ],
      "text/markdown": [
       "\n",
       "| animal | weight |\n",
       "|---|---|\n",
       "| dog | 22  |\n",
       "| dog | 44  |\n",
       "| dog | 35  |\n",
       "| dog | 11  |\n",
       "| dog | 80  |\n",
       "| dog | 56  |\n",
       "\n"
      ],
      "text/plain": [
       "  animal weight\n",
       "1 dog    22    \n",
       "2 dog    44    \n",
       "3 dog    35    \n",
       "4 dog    11    \n",
       "5 dog    80    \n",
       "6 dog    56    "
      ]
     },
     "metadata": {},
     "output_type": "display_data"
    }
   ],
   "source": [
    "tinydf <- data.frame (\n",
    "        animal = c(rep(\"dog\", 10), rep(\"cat\", 10)),\n",
    "        weight = c(22, 44, 35, 11, 80, 56, 67, 45, 88, 44, 36, 20, 15, 16, 20, 22, 12, 14, 16, 17)\n",
    "    )\n",
    "head(tinydf)"
   ]
  },
  {
   "cell_type": "code",
   "execution_count": 53,
   "metadata": {},
   "outputs": [
    {
     "data": {
      "text/plain": [
       "\n",
       "\tWelch Two Sample t-test\n",
       "\n",
       "data:  weight by animal\n",
       "t = -3.8195, df = 10.392, p-value = 0.00315\n",
       "alternative hypothesis: true difference in means is not equal to 0\n",
       "95 percent confidence interval:\n",
       " -48.04359 -12.75641\n",
       "sample estimates:\n",
       "mean in group cat mean in group dog \n",
       "             18.8              49.2 \n"
      ]
     },
     "metadata": {},
     "output_type": "display_data"
    }
   ],
   "source": [
    "# run t-test first\n",
    "t.test(weight ~ animal, data = tinydf)"
   ]
  },
  {
   "cell_type": "markdown",
   "metadata": {},
   "source": [
    "We have a significant difference in mean weights.  But how big is the difference substantively?  The unstandardized effect size is 49.2 - 18.8 = 30.4 lbs.  What is the standardized effect size?"
   ]
  },
  {
   "cell_type": "code",
   "execution_count": 50,
   "metadata": {},
   "outputs": [
    {
     "data": {
      "text/plain": [
       "\n",
       "Hedges's g\n",
       "\n",
       "g estimate: -1.635977 (large)\n",
       "95 percent confidence interval:\n",
       "     lower      upper \n",
       "-2.6755224 -0.5964321 "
      ]
     },
     "metadata": {},
     "output_type": "display_data"
    }
   ],
   "source": [
    "# and run hedge's g\n",
    "cohen.d(tinydf$weight ~ tinydf$animal, hedges = TRUE)\n"
   ]
  },
  {
   "cell_type": "markdown",
   "metadata": {},
   "source": [
    "The standardized effect size is also large - 1.64 (negative only because cats are the first group listed and have a smaller mean weight).\n",
    "\n",
    "### R-squared\n",
    "Finally we'll turn to R-squared to see what proportion of the variance in our DV is explained by the IV (the groups).  \n",
    "\n",
    "For t-values, $r^2$ is calculated using this formula:\n",
    "\n",
    "# $$  r^2 = \\frac{t^2}{t^2 + df}  $$\n",
    "\n",
    "where $t$ is your t-value(statistic) and $df$ is your degrees of freedom.\n",
    "\n",
    "$r^2$ ranges from 0 to 1 where 0 means there is no variation explained by the IV and 1 means all of the variation is explained by the IV.\n",
    "- $r^2 \\approx$ 0.1, little to no effect\n",
    "- $r^2 \\approx$ 0.3, weak effect\n",
    "- $r^2 \\approx$ 0.5, moderate effect\n",
    "- $r^2 \\approx$ 0.6 to 1, strong effect\n",
    "\n",
    "This time let's look at the mean rating of congress (`ft_congress`) by `race`."
   ]
  },
  {
   "cell_type": "code",
   "execution_count": 61,
   "metadata": {},
   "outputs": [
    {
     "data": {
      "text/plain": [
       "\n",
       "\tTwo Sample t-test\n",
       "\n",
       "data:  ft_congress by race\n",
       "t = 7.7307, df = 3521, p-value = 1.386e-14\n",
       "alternative hypothesis: true difference in means is not equal to 0\n",
       "95 percent confidence interval:\n",
       " 4.817960 8.092189\n",
       "sample estimates:\n",
       "mean in group not_white     mean in group white \n",
       "               47.35863                40.90355 \n"
      ]
     },
     "metadata": {},
     "output_type": "display_data"
    }
   ],
   "source": [
    "## first run t-test and save output\n",
    "con_t <- t.test(ft_congress ~ race, data = anes, var.equal = TRUE)\n",
    "con_t"
   ]
  },
  {
   "cell_type": "markdown",
   "metadata": {},
   "source": [
    "We have our values saved, so we can use `con_t$statistic` to obtain our t, and `con_t$parameter` to obtain degrees of freedom"
   ]
  },
  {
   "cell_type": "code",
   "execution_count": 62,
   "metadata": {},
   "outputs": [
    {
     "data": {
      "text/html": [
       "<strong>t:</strong> 0.0166902854444542"
      ],
      "text/latex": [
       "\\textbf{t:} 0.0166902854444542"
      ],
      "text/markdown": [
       "**t:** 0.0166902854444542"
      ],
      "text/plain": [
       "         t \n",
       "0.01669029 "
      ]
     },
     "metadata": {},
     "output_type": "display_data"
    }
   ],
   "source": [
    "## calculating r-squared for t-test (by hand)\n",
    "t <- con_t$statistic\n",
    "df <- con_t$parameter\n",
    "r_sq <- t^2 / (t^2 + df)\n",
    "r_sq"
   ]
  },
  {
   "cell_type": "markdown",
   "metadata": {},
   "source": [
    "Our $r^2$ is 0.016, which means that the IV (race) explains very little of the variation in mean feeling about congress.\n",
    "\n",
    "Let's check out the cohen's d to compare:"
   ]
  },
  {
   "cell_type": "code",
   "execution_count": 68,
   "metadata": {},
   "outputs": [
    {
     "data": {
      "text/plain": [
       "\n",
       "Cohen's d\n",
       "\n",
       "d estimate: 0.292337 (small)\n",
       "95 percent confidence interval:\n",
       "    lower     upper \n",
       "0.2178817 0.3667922 "
      ]
     },
     "metadata": {},
     "output_type": "display_data"
    }
   ],
   "source": [
    "cohen.d(as.numeric(ft_congress) ~ race, data = anes)"
   ]
  },
  {
   "cell_type": "markdown",
   "metadata": {},
   "source": [
    "We can get R to calculate this $r^2$ in another way - a function that we won't talk about for a couple more weeks...."
   ]
  },
  {
   "cell_type": "code",
   "execution_count": 66,
   "metadata": {},
   "outputs": [
    {
     "data": {
      "text/html": [
       "0.0166902854444542"
      ],
      "text/latex": [
       "0.0166902854444542"
      ],
      "text/markdown": [
       "0.0166902854444542"
      ],
      "text/plain": [
       "[1] 0.01669029"
      ]
     },
     "metadata": {},
     "output_type": "display_data"
    }
   ],
   "source": [
    "summary(lm(ft_congress ~ race, data = anes))$r.squared"
   ]
  },
  {
   "cell_type": "markdown",
   "metadata": {},
   "source": [
    "## Power\n",
    "Finally, we need to talk about power.  We'll still be using our old friend `pwr`, just with a couple of small adjustments to the arguments.\n",
    "\n",
    "First, let's calculate the power of our previous t-test, ratings of congress by race.\n",
    "\n",
    "We know we had a cohen's d of 0.292337, which we'll need for our calculation."
   ]
  },
  {
   "cell_type": "code",
   "execution_count": 70,
   "metadata": {},
   "outputs": [
    {
     "data": {
      "text/plain": [
       "\n",
       "     Two-sample t test power calculation \n",
       "\n",
       "              n = 3523\n",
       "              d = 0.29\n",
       "      sig.level = 0.05\n",
       "          power = 1\n",
       "    alternative = two.sided\n",
       "\n",
       "NOTE: n is number in *each* group\n"
      ]
     },
     "metadata": {},
     "output_type": "display_data"
    }
   ],
   "source": [
    "# calculate power of two-sample t-test - ft_congress by race - leave power = NULL to obtain power\n",
    "n = length(anes$ft_congress) # need to know n\n",
    "pwr.t.test(d = 0.29, n = n, sig.level = 0.05, power = NULL, type = \"two.sample\", alt = \"two.sided\")"
   ]
  },
  {
   "cell_type": "markdown",
   "metadata": {},
   "source": [
    "Our power was practically 1, which means our probability of Type II error was practically 0.  Remember when I mentioned that with a large sample size most differences are statistically significant?  \n",
    "\n",
    "What n did we need to see the effect we saw if we only needed power = 0.8?"
   ]
  },
  {
   "cell_type": "code",
   "execution_count": 71,
   "metadata": {},
   "outputs": [
    {
     "data": {
      "text/plain": [
       "\n",
       "     Two-sample t test power calculation \n",
       "\n",
       "              n = 187.6206\n",
       "              d = 0.29\n",
       "      sig.level = 0.05\n",
       "          power = 0.8\n",
       "    alternative = two.sided\n",
       "\n",
       "NOTE: n is number in *each* group\n"
      ]
     },
     "metadata": {},
     "output_type": "display_data"
    }
   ],
   "source": [
    "pwr.t.test(d = 0.29, n = NULL, sig.level = 0.05, power = 0.8, type = \"two.sample\", alt = \"two.sided\")"
   ]
  },
  {
   "cell_type": "markdown",
   "metadata": {},
   "source": [
    "We only needed a sample size of 188 to discern a statistical difference with an effect size of d = 0.29."
   ]
  },
  {
   "cell_type": "code",
   "execution_count": null,
   "metadata": {},
   "outputs": [],
   "source": []
  }
 ],
 "metadata": {
  "kernelspec": {
   "display_name": "R",
   "language": "R",
   "name": "ir"
  },
  "language_info": {
   "codemirror_mode": "r",
   "file_extension": ".r",
   "mimetype": "text/x-r-source",
   "name": "R",
   "pygments_lexer": "r",
   "version": "3.6.1"
  }
 },
 "nbformat": 4,
 "nbformat_minor": 2
}
